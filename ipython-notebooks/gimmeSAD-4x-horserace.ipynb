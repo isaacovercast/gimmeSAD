{
 "cells": [
  {
   "cell_type": "markdown",
   "metadata": {},
   "source": [
    "# Fit abundance curves to different models"
   ]
  },
  {
   "cell_type": "code",
   "execution_count": 45,
   "metadata": {
    "collapsed": true
   },
   "outputs": [],
   "source": [
    "%matplotlib inline\n",
    "\n",
    "import os\n",
    "os.chdir(\"/home/isaac/gimmeSAD\")\n",
    "import matplotlib.pyplot as plt\n",
    "import macroeco as meco\n",
    "import pandas as pd\n",
    "import numpy as np\n",
    "import implicit_BI\n",
    "import itertools\n",
    "import gimmeSAD\n",
    "import glob\n",
    "## For literal_eval\n",
    "import sys\n",
    "import ast\n",
    "import scipy\n",
    "\n",
    "from scipy.stats import expon\n",
    "\n",
    "SIMOUT_DIR = \"/home/isaac/gimmeSAD/deme_size_sims/\"\n",
    "OUTFILE = \"gimmeSAD.out\"\n",
    "os.chdir(SIMOUT_DIR)\n",
    "col_rates = [0.03, 0.01, 0.005]\n"
   ]
  },
  {
   "cell_type": "code",
   "execution_count": 96,
   "metadata": {
    "collapsed": true
   },
   "outputs": [],
   "source": [
    "## quicksort stolen from the internet\n",
    "def qsort(arr):\n",
    "     if len(arr) <= 1:\n",
    "          return arr\n",
    "     else:\n",
    "          return qsort([x for x in arr[1:] if x[0]<arr[0][0]])\\\n",
    "                    + [arr[0]] + qsort([x for x in arr[1:] if x[0]>=arr[0][0]])"
   ]
  },
  {
   "cell_type": "code",
   "execution_count": 97,
   "metadata": {
    "collapsed": true
   },
   "outputs": [],
   "source": [
    "def unpack_abundances(my_abund):\n",
    "    \"\"\" Unpacks packed abundances in my form (tuples), into just raw species abundances \"\"\"\n",
    "    raw_abund = []\n",
    "    for ab in my_abund:\n",
    "        raw_abund.extend([ab[0]] * ab[1])\n",
    "    return raw_abund\n"
   ]
  },
  {
   "cell_type": "code",
   "execution_count": 98,
   "metadata": {
    "collapsed": true
   },
   "outputs": [],
   "source": [
    "def plot_models(abundances):\n",
    "\n",
    "    plt.figure()\n",
    "    sad_df = abundances\n",
    "\n",
    "    p = meco.models.logser.fit_mle(sad_df)\n",
    "    logser_rad = meco.models.logser.rank(len(sad_df), p)\n",
    "\n",
    "    broken_stick_rad = meco.models.nbinom_ztrunc.rank(len(sad_df), np.mean(sad_df), 1)\n",
    "\n",
    "    mu, s = meco.models.plnorm_ztrunc.fit_mle(sad_df)\n",
    "    plnorm_rad = meco.models.plnorm_ztrunc.rank(len(sad_df), mu, s)\n",
    "\n",
    "    mu, s = meco.models.lognorm.fit_mle(sad_df)\n",
    "    lognorm_rad = meco.models.plnorm_ztrunc.rank(len(sad_df), mu, s)\n",
    "\n",
    "    ranks = np.arange(1, len(sad_df) + 1)\n",
    "    print(len(ranks))\n",
    "    print(ranks)\n",
    "    print(len(sad_df))\n",
    "    print(sad_df)\n",
    "          \n",
    "    broken_stick_rad = meco.models.nbinom_ztrunc.rank(len(sad_df), np.mean(sad_df), 1)\n",
    "    plt.scatter(ranks, np.sort(sad_df))\n",
    "    plt.semilogy(ranks, np.sort(sad_df)[::-1], label=\"Empirical RAD\")\n",
    "    plt.semilogy(ranks, logser_rad[::-1], label=\"Logseries RAD\")\n",
    "    plt.semilogy(ranks, broken_stick_rad[::-1], label=\"Broken Stick RAD\")\n",
    "    plt.semilogy(ranks, lognorm_rad[::-1], label=\"Lognormal RAD\")\n",
    "    plt.semilogy(ranks, plnorm_rad[::-1], label=\"Poisson Lognormal RAD\")\n",
    "    plt.xlabel(\"Rank\")\n",
    "    plt.ylabel(\"Log(Abundance)\")\n",
    "    plt.legend()\n",
    "    plt.show"
   ]
  },
  {
   "cell_type": "code",
   "execution_count": 99,
   "metadata": {
    "collapsed": true
   },
   "outputs": [],
   "source": [
    "models = [meco.models.logser, meco.models.lognorm, meco.models.nbinom_ztrunc, meco.models.plnorm_ztrunc]\n",
    "def best_fit(abundances):\n",
    "    \"\"\" Attempt to fit each model to the empirical, then get the AIC\n",
    "    of the model fit\"\"\"\n",
    "    \n",
    "    best_aic = 100000\n",
    "    best_model = \"\"\n",
    "    for m in models:\n",
    "        #print(m)\n",
    "        mle_params = m.fit_mle(abundances)\n",
    "        #print(mle_params)\n",
    "        if len(mle_params) > 1:\n",
    "            model_aic = meco.compare.AIC(abundances, m(mle_params[0], mle_params[1]))\n",
    "        else:\n",
    "            model_aic = meco.compare.AIC(abundances, m(mle_params))\n",
    "\n",
    "        if model_aic < best_aic:\n",
    "            best_aic = model_aic\n",
    "            best_model = m\n",
    "    print(\"{} - {}\".format(best_model, model_aic))"
   ]
  },
  {
   "cell_type": "code",
   "execution_count": 100,
   "metadata": {},
   "outputs": [
    {
     "name": "stderr",
     "output_type": "stream",
     "text": [
      "/home/isaac/miniconda2/lib/python2.7/site-packages/macroeco/models/_distributions.py:1633: RuntimeWarning: overflow encountered in exp\n",
      "  eq = lambda t, x, mu, sigma: np.exp(t * x - np.exp(t) - 0.5 *\n"
     ]
    },
    {
     "name": "stdout",
     "output_type": "stream",
     "text": [
      "<macroeco.models._distributions.nbinom_ztrunc_gen object at 0x7feb0ff2b190> - 47.5582657028\n",
      "[2, 2, 2, 2, 2, 2, 2, 2, 2, 2, 500]\n"
     ]
    }
   ],
   "source": [
    "## Test widgets\n",
    "best_fit([1,1,1,2,3,4,4,4,5,5,6])\n",
    "print(unpack_abundances([(2,10), (500,1)]))"
   ]
  },
  {
   "cell_type": "code",
   "execution_count": 101,
   "metadata": {},
   "outputs": [
    {
     "name": "stdout",
     "output_type": "stream",
     "text": [
      "K_10000-C_0.01-1509733441.1_x1\n",
      "K_5000-C_0.005-1509733440.98_x1\n",
      "<macroeco.models._distributions.nbinom_ztrunc_gen object at 0x7feb0ff2b190> - 863.741858741\n",
      "K_5000-C_0.005-1509733430.27_x4\n",
      "K_10000-C_0.005-1509733441.65_x10\n",
      "K_10000-C_0.03-1509733430.61_x10\n",
      "K_5000-C_0.01-1509733430.31_x4\n",
      "K_1000-C_0.03-1509733441.17_x1\n",
      "<macroeco.models._distributions.nbinom_ztrunc_gen object at 0x7feb0ff2b190> - 556.549350636\n",
      "K_10000-C_0.03-1509733441.55_x4\n",
      "K_5000-C_0.01-1509733430.21_x1\n",
      "<macroeco.models._distributions.nbinom_ztrunc_gen object at 0x7feb0ff2b190> - 1136.92607723\n",
      "K_10000-C_0.005-1509733441.31_x4\n",
      "K_10000-C_0.01-1509733430.44_x10\n",
      "K_5000-C_0.03-1509733441.17_x1\n",
      "<macroeco.models._distributions.nbinom_ztrunc_gen object at 0x7feb0ff2b190> - 1632.24061102\n",
      "K_10000-C_0.03-1509733430.23_x1\n",
      "K_10000-C_0.03-1509733441.87_x10\n",
      "K_10000-C_0.005-1509733430.29_x4\n",
      "K_1000-C_0.03-1509733430.48_x10\n",
      "<macroeco.models._distributions.plnorm_ztrunc_gen object at 0x7feb0ff2bfd0> - 2744.09788225\n",
      "K_10000-C_0.005-1509733430.37_x10\n",
      "K_10000-C_0.005-1509733441.04_x1\n",
      "K_5000-C_0.03-1509733430.53_x10\n",
      "K_5000-C_0.005-1509733430.36_x10\n",
      "K_1000-C_0.01-1509733441.35_x4\n"
     ]
    },
    {
     "ename": "KeyboardInterrupt",
     "evalue": "",
     "output_type": "error",
     "traceback": [
      "\u001b[0;31m\u001b[0m",
      "\u001b[0;31mKeyboardInterrupt\u001b[0mTraceback (most recent call last)",
      "\u001b[0;32m<ipython-input-101-54426ce4b0dd>\u001b[0m in \u001b[0;36m<module>\u001b[0;34m()\u001b[0m\n\u001b[1;32m     20\u001b[0m                 \u001b[0mabund\u001b[0m \u001b[0;34m=\u001b[0m \u001b[0mqsort\u001b[0m\u001b[0;34m(\u001b[0m\u001b[0mabund\u001b[0m\u001b[0;34m)\u001b[0m\u001b[0;34m\u001b[0m\u001b[0m\n\u001b[1;32m     21\u001b[0m                 \u001b[0mabund\u001b[0m \u001b[0;34m=\u001b[0m \u001b[0munpack_abundances\u001b[0m\u001b[0;34m(\u001b[0m\u001b[0mabund\u001b[0m\u001b[0;34m)\u001b[0m\u001b[0;34m\u001b[0m\u001b[0m\n\u001b[0;32m---> 22\u001b[0;31m                 \u001b[0mbest_fit\u001b[0m\u001b[0;34m(\u001b[0m\u001b[0mabund\u001b[0m\u001b[0;34m)\u001b[0m\u001b[0;34m\u001b[0m\u001b[0m\n\u001b[0m\u001b[1;32m     23\u001b[0m                 \u001b[0;31m#print(\"\\n\")\u001b[0m\u001b[0;34m\u001b[0m\u001b[0;34m\u001b[0m\u001b[0m\n\u001b[1;32m     24\u001b[0m                 \u001b[0;31m#plot_models(abund)\u001b[0m\u001b[0;34m\u001b[0m\u001b[0;34m\u001b[0m\u001b[0m\n",
      "\u001b[0;32m<ipython-input-99-71928032eacb>\u001b[0m in \u001b[0;36mbest_fit\u001b[0;34m(abundances)\u001b[0m\n\u001b[1;32m      8\u001b[0m     \u001b[0;32mfor\u001b[0m \u001b[0mm\u001b[0m \u001b[0;32min\u001b[0m \u001b[0mmodels\u001b[0m\u001b[0;34m:\u001b[0m\u001b[0;34m\u001b[0m\u001b[0m\n\u001b[1;32m      9\u001b[0m         \u001b[0;31m#print(m)\u001b[0m\u001b[0;34m\u001b[0m\u001b[0;34m\u001b[0m\u001b[0m\n\u001b[0;32m---> 10\u001b[0;31m         \u001b[0mmle_params\u001b[0m \u001b[0;34m=\u001b[0m \u001b[0mm\u001b[0m\u001b[0;34m.\u001b[0m\u001b[0mfit_mle\u001b[0m\u001b[0;34m(\u001b[0m\u001b[0mabundances\u001b[0m\u001b[0;34m)\u001b[0m\u001b[0;34m\u001b[0m\u001b[0m\n\u001b[0m\u001b[1;32m     11\u001b[0m         \u001b[0;31m#print(mle_params)\u001b[0m\u001b[0;34m\u001b[0m\u001b[0;34m\u001b[0m\u001b[0m\n\u001b[1;32m     12\u001b[0m         \u001b[0;32mif\u001b[0m \u001b[0mlen\u001b[0m\u001b[0;34m(\u001b[0m\u001b[0mmle_params\u001b[0m\u001b[0;34m)\u001b[0m \u001b[0;34m>\u001b[0m \u001b[0;36m1\u001b[0m\u001b[0;34m:\u001b[0m\u001b[0;34m\u001b[0m\u001b[0m\n",
      "\u001b[0;32m/home/isaac/miniconda2/lib/python2.7/site-packages/macroeco/models/_distributions.pyc\u001b[0m in \u001b[0;36mfit_mle\u001b[0;34m(self, data)\u001b[0m\n\u001b[1;32m   1575\u001b[0m \u001b[0;34m\u001b[0m\u001b[0m\n\u001b[1;32m   1576\u001b[0m         \u001b[0;31m# Bounded fmin?\u001b[0m\u001b[0;34m\u001b[0m\u001b[0;34m\u001b[0m\u001b[0m\n\u001b[0;32m-> 1577\u001b[0;31m         \u001b[0mmu\u001b[0m\u001b[0;34m,\u001b[0m \u001b[0msigma\u001b[0m \u001b[0;34m=\u001b[0m \u001b[0moptim\u001b[0m\u001b[0;34m.\u001b[0m\u001b[0mfmin_bfgs\u001b[0m\u001b[0;34m(\u001b[0m\u001b[0mmle\u001b[0m\u001b[0;34m,\u001b[0m \u001b[0mx0\u001b[0m\u001b[0;34m=\u001b[0m\u001b[0;34m[\u001b[0m\u001b[0mmu0\u001b[0m\u001b[0;34m,\u001b[0m \u001b[0msig0\u001b[0m\u001b[0;34m]\u001b[0m\u001b[0;34m,\u001b[0m \u001b[0mdisp\u001b[0m\u001b[0;34m=\u001b[0m\u001b[0;36m0\u001b[0m\u001b[0;34m)\u001b[0m\u001b[0;34m\u001b[0m\u001b[0m\n\u001b[0m\u001b[1;32m   1578\u001b[0m \u001b[0;34m\u001b[0m\u001b[0m\n\u001b[1;32m   1579\u001b[0m         \u001b[0;32mreturn\u001b[0m \u001b[0mmu\u001b[0m\u001b[0;34m,\u001b[0m \u001b[0msigma\u001b[0m\u001b[0;34m\u001b[0m\u001b[0m\n",
      "\u001b[0;32m/home/isaac/miniconda2/lib/python2.7/site-packages/scipy/optimize/optimize.pyc\u001b[0m in \u001b[0;36mfmin_bfgs\u001b[0;34m(f, x0, fprime, args, gtol, norm, epsilon, maxiter, full_output, disp, retall, callback)\u001b[0m\n\u001b[1;32m    857\u001b[0m             'return_all': retall}\n\u001b[1;32m    858\u001b[0m \u001b[0;34m\u001b[0m\u001b[0m\n\u001b[0;32m--> 859\u001b[0;31m     \u001b[0mres\u001b[0m \u001b[0;34m=\u001b[0m \u001b[0m_minimize_bfgs\u001b[0m\u001b[0;34m(\u001b[0m\u001b[0mf\u001b[0m\u001b[0;34m,\u001b[0m \u001b[0mx0\u001b[0m\u001b[0;34m,\u001b[0m \u001b[0margs\u001b[0m\u001b[0;34m,\u001b[0m \u001b[0mfprime\u001b[0m\u001b[0;34m,\u001b[0m \u001b[0mcallback\u001b[0m\u001b[0;34m=\u001b[0m\u001b[0mcallback\u001b[0m\u001b[0;34m,\u001b[0m \u001b[0;34m**\u001b[0m\u001b[0mopts\u001b[0m\u001b[0;34m)\u001b[0m\u001b[0;34m\u001b[0m\u001b[0m\n\u001b[0m\u001b[1;32m    860\u001b[0m \u001b[0;34m\u001b[0m\u001b[0m\n\u001b[1;32m    861\u001b[0m     \u001b[0;32mif\u001b[0m \u001b[0mfull_output\u001b[0m\u001b[0;34m:\u001b[0m\u001b[0;34m\u001b[0m\u001b[0m\n",
      "\u001b[0;32m/home/isaac/miniconda2/lib/python2.7/site-packages/scipy/optimize/optimize.pyc\u001b[0m in \u001b[0;36m_minimize_bfgs\u001b[0;34m(fun, x0, args, jac, callback, gtol, norm, eps, maxiter, disp, return_all, **unknown_options)\u001b[0m\n\u001b[1;32m    932\u001b[0m             \u001b[0malpha_k\u001b[0m\u001b[0;34m,\u001b[0m \u001b[0mfc\u001b[0m\u001b[0;34m,\u001b[0m \u001b[0mgc\u001b[0m\u001b[0;34m,\u001b[0m \u001b[0mold_fval\u001b[0m\u001b[0;34m,\u001b[0m \u001b[0mold_old_fval\u001b[0m\u001b[0;34m,\u001b[0m \u001b[0mgfkp1\u001b[0m \u001b[0;34m=\u001b[0m\u001b[0;31m \u001b[0m\u001b[0;31m\\\u001b[0m\u001b[0;34m\u001b[0m\u001b[0m\n\u001b[1;32m    933\u001b[0m                      _line_search_wolfe12(f, myfprime, xk, pk, gfk,\n\u001b[0;32m--> 934\u001b[0;31m                                           old_fval, old_old_fval, amin=1e-100, amax=1e100)\n\u001b[0m\u001b[1;32m    935\u001b[0m         \u001b[0;32mexcept\u001b[0m \u001b[0m_LineSearchError\u001b[0m\u001b[0;34m:\u001b[0m\u001b[0;34m\u001b[0m\u001b[0m\n\u001b[1;32m    936\u001b[0m             \u001b[0;31m# Line search failed to find a better solution.\u001b[0m\u001b[0;34m\u001b[0m\u001b[0;34m\u001b[0m\u001b[0m\n",
      "\u001b[0;32m/home/isaac/miniconda2/lib/python2.7/site-packages/scipy/optimize/optimize.pyc\u001b[0m in \u001b[0;36m_line_search_wolfe12\u001b[0;34m(f, fprime, xk, pk, gfk, old_fval, old_old_fval, **kwargs)\u001b[0m\n\u001b[1;32m    763\u001b[0m     ret = line_search_wolfe1(f, fprime, xk, pk, gfk,\n\u001b[1;32m    764\u001b[0m                              \u001b[0mold_fval\u001b[0m\u001b[0;34m,\u001b[0m \u001b[0mold_old_fval\u001b[0m\u001b[0;34m,\u001b[0m\u001b[0;34m\u001b[0m\u001b[0m\n\u001b[0;32m--> 765\u001b[0;31m                              **kwargs)\n\u001b[0m\u001b[1;32m    766\u001b[0m \u001b[0;34m\u001b[0m\u001b[0m\n\u001b[1;32m    767\u001b[0m     \u001b[0;32mif\u001b[0m \u001b[0mret\u001b[0m\u001b[0;34m[\u001b[0m\u001b[0;36m0\u001b[0m\u001b[0;34m]\u001b[0m \u001b[0;32mis\u001b[0m \u001b[0mNone\u001b[0m\u001b[0;34m:\u001b[0m\u001b[0;34m\u001b[0m\u001b[0m\n",
      "\u001b[0;32m/home/isaac/miniconda2/lib/python2.7/site-packages/scipy/optimize/linesearch.pyc\u001b[0m in \u001b[0;36mline_search_wolfe1\u001b[0;34m(f, fprime, xk, pk, gfk, old_fval, old_old_fval, args, c1, c2, amax, amin, xtol)\u001b[0m\n\u001b[1;32m     99\u001b[0m     stp, fval, old_fval = scalar_search_wolfe1(\n\u001b[1;32m    100\u001b[0m             \u001b[0mphi\u001b[0m\u001b[0;34m,\u001b[0m \u001b[0mderphi\u001b[0m\u001b[0;34m,\u001b[0m \u001b[0mold_fval\u001b[0m\u001b[0;34m,\u001b[0m \u001b[0mold_old_fval\u001b[0m\u001b[0;34m,\u001b[0m \u001b[0mderphi0\u001b[0m\u001b[0;34m,\u001b[0m\u001b[0;34m\u001b[0m\u001b[0m\n\u001b[0;32m--> 101\u001b[0;31m             c1=c1, c2=c2, amax=amax, amin=amin, xtol=xtol)\n\u001b[0m\u001b[1;32m    102\u001b[0m \u001b[0;34m\u001b[0m\u001b[0m\n\u001b[1;32m    103\u001b[0m     \u001b[0;32mreturn\u001b[0m \u001b[0mstp\u001b[0m\u001b[0;34m,\u001b[0m \u001b[0mfc\u001b[0m\u001b[0;34m[\u001b[0m\u001b[0;36m0\u001b[0m\u001b[0;34m]\u001b[0m\u001b[0;34m,\u001b[0m \u001b[0mgc\u001b[0m\u001b[0;34m[\u001b[0m\u001b[0;36m0\u001b[0m\u001b[0;34m]\u001b[0m\u001b[0;34m,\u001b[0m \u001b[0mfval\u001b[0m\u001b[0;34m,\u001b[0m \u001b[0mold_fval\u001b[0m\u001b[0;34m,\u001b[0m \u001b[0mgval\u001b[0m\u001b[0;34m[\u001b[0m\u001b[0;36m0\u001b[0m\u001b[0;34m]\u001b[0m\u001b[0;34m\u001b[0m\u001b[0m\n",
      "\u001b[0;32m/home/isaac/miniconda2/lib/python2.7/site-packages/scipy/optimize/linesearch.pyc\u001b[0m in \u001b[0;36mscalar_search_wolfe1\u001b[0;34m(phi, derphi, phi0, old_phi0, derphi0, c1, c2, amax, amin, xtol)\u001b[0m\n\u001b[1;32m    172\u001b[0m         \u001b[0;32mif\u001b[0m \u001b[0mtask\u001b[0m\u001b[0;34m[\u001b[0m\u001b[0;34m:\u001b[0m\u001b[0;36m2\u001b[0m\u001b[0;34m]\u001b[0m \u001b[0;34m==\u001b[0m \u001b[0;34mb'FG'\u001b[0m\u001b[0;34m:\u001b[0m\u001b[0;34m\u001b[0m\u001b[0m\n\u001b[1;32m    173\u001b[0m             \u001b[0malpha1\u001b[0m \u001b[0;34m=\u001b[0m \u001b[0mstp\u001b[0m\u001b[0;34m\u001b[0m\u001b[0m\n\u001b[0;32m--> 174\u001b[0;31m             \u001b[0mphi1\u001b[0m \u001b[0;34m=\u001b[0m \u001b[0mphi\u001b[0m\u001b[0;34m(\u001b[0m\u001b[0mstp\u001b[0m\u001b[0;34m)\u001b[0m\u001b[0;34m\u001b[0m\u001b[0m\n\u001b[0m\u001b[1;32m    175\u001b[0m             \u001b[0mderphi1\u001b[0m \u001b[0;34m=\u001b[0m \u001b[0mderphi\u001b[0m\u001b[0;34m(\u001b[0m\u001b[0mstp\u001b[0m\u001b[0;34m)\u001b[0m\u001b[0;34m\u001b[0m\u001b[0m\n\u001b[1;32m    176\u001b[0m         \u001b[0;32melse\u001b[0m\u001b[0;34m:\u001b[0m\u001b[0;34m\u001b[0m\u001b[0m\n",
      "\u001b[0;32m/home/isaac/miniconda2/lib/python2.7/site-packages/scipy/optimize/linesearch.pyc\u001b[0m in \u001b[0;36mphi\u001b[0;34m(s)\u001b[0m\n\u001b[1;32m     85\u001b[0m     \u001b[0;32mdef\u001b[0m \u001b[0mphi\u001b[0m\u001b[0;34m(\u001b[0m\u001b[0ms\u001b[0m\u001b[0;34m)\u001b[0m\u001b[0;34m:\u001b[0m\u001b[0;34m\u001b[0m\u001b[0m\n\u001b[1;32m     86\u001b[0m         \u001b[0mfc\u001b[0m\u001b[0;34m[\u001b[0m\u001b[0;36m0\u001b[0m\u001b[0;34m]\u001b[0m \u001b[0;34m+=\u001b[0m \u001b[0;36m1\u001b[0m\u001b[0;34m\u001b[0m\u001b[0m\n\u001b[0;32m---> 87\u001b[0;31m         \u001b[0;32mreturn\u001b[0m \u001b[0mf\u001b[0m\u001b[0;34m(\u001b[0m\u001b[0mxk\u001b[0m \u001b[0;34m+\u001b[0m \u001b[0ms\u001b[0m\u001b[0;34m*\u001b[0m\u001b[0mpk\u001b[0m\u001b[0;34m,\u001b[0m \u001b[0;34m*\u001b[0m\u001b[0margs\u001b[0m\u001b[0;34m)\u001b[0m\u001b[0;34m\u001b[0m\u001b[0m\n\u001b[0m\u001b[1;32m     88\u001b[0m \u001b[0;34m\u001b[0m\u001b[0m\n\u001b[1;32m     89\u001b[0m     \u001b[0;32mdef\u001b[0m \u001b[0mderphi\u001b[0m\u001b[0;34m(\u001b[0m\u001b[0ms\u001b[0m\u001b[0;34m)\u001b[0m\u001b[0;34m:\u001b[0m\u001b[0;34m\u001b[0m\u001b[0m\n",
      "\u001b[0;32m/home/isaac/miniconda2/lib/python2.7/site-packages/scipy/optimize/optimize.pyc\u001b[0m in \u001b[0;36mfunction_wrapper\u001b[0;34m(*wrapper_args)\u001b[0m\n\u001b[1;32m    290\u001b[0m     \u001b[0;32mdef\u001b[0m \u001b[0mfunction_wrapper\u001b[0m\u001b[0;34m(\u001b[0m\u001b[0;34m*\u001b[0m\u001b[0mwrapper_args\u001b[0m\u001b[0;34m)\u001b[0m\u001b[0;34m:\u001b[0m\u001b[0;34m\u001b[0m\u001b[0m\n\u001b[1;32m    291\u001b[0m         \u001b[0mncalls\u001b[0m\u001b[0;34m[\u001b[0m\u001b[0;36m0\u001b[0m\u001b[0;34m]\u001b[0m \u001b[0;34m+=\u001b[0m \u001b[0;36m1\u001b[0m\u001b[0;34m\u001b[0m\u001b[0m\n\u001b[0;32m--> 292\u001b[0;31m         \u001b[0;32mreturn\u001b[0m \u001b[0mfunction\u001b[0m\u001b[0;34m(\u001b[0m\u001b[0;34m*\u001b[0m\u001b[0;34m(\u001b[0m\u001b[0mwrapper_args\u001b[0m \u001b[0;34m+\u001b[0m \u001b[0margs\u001b[0m\u001b[0;34m)\u001b[0m\u001b[0;34m)\u001b[0m\u001b[0;34m\u001b[0m\u001b[0m\n\u001b[0m\u001b[1;32m    293\u001b[0m \u001b[0;34m\u001b[0m\u001b[0m\n\u001b[1;32m    294\u001b[0m     \u001b[0;32mreturn\u001b[0m \u001b[0mncalls\u001b[0m\u001b[0;34m,\u001b[0m \u001b[0mfunction_wrapper\u001b[0m\u001b[0;34m\u001b[0m\u001b[0m\n",
      "\u001b[0;32m/home/isaac/miniconda2/lib/python2.7/site-packages/macroeco/models/_distributions.pyc\u001b[0m in \u001b[0;36mmle\u001b[0;34m(params)\u001b[0m\n\u001b[1;32m   1572\u001b[0m \u001b[0;34m\u001b[0m\u001b[0m\n\u001b[1;32m   1573\u001b[0m         \u001b[0;32mdef\u001b[0m \u001b[0mmle\u001b[0m\u001b[0;34m(\u001b[0m\u001b[0mparams\u001b[0m\u001b[0;34m)\u001b[0m\u001b[0;34m:\u001b[0m\u001b[0;34m\u001b[0m\u001b[0m\n\u001b[0;32m-> 1574\u001b[0;31m             \u001b[0;32mreturn\u001b[0m \u001b[0;34m-\u001b[0m\u001b[0mnp\u001b[0m\u001b[0;34m.\u001b[0m\u001b[0msum\u001b[0m\u001b[0;34m(\u001b[0m\u001b[0mnp\u001b[0m\u001b[0;34m.\u001b[0m\u001b[0mlog\u001b[0m\u001b[0;34m(\u001b[0m\u001b[0mself\u001b[0m\u001b[0;34m.\u001b[0m\u001b[0m_pmf\u001b[0m\u001b[0;34m(\u001b[0m\u001b[0mdata\u001b[0m\u001b[0;34m,\u001b[0m \u001b[0mparams\u001b[0m\u001b[0;34m[\u001b[0m\u001b[0;36m0\u001b[0m\u001b[0;34m]\u001b[0m\u001b[0;34m,\u001b[0m \u001b[0mparams\u001b[0m\u001b[0;34m[\u001b[0m\u001b[0;36m1\u001b[0m\u001b[0;34m]\u001b[0m\u001b[0;34m)\u001b[0m\u001b[0;34m)\u001b[0m\u001b[0;34m)\u001b[0m\u001b[0;34m\u001b[0m\u001b[0m\n\u001b[0m\u001b[1;32m   1575\u001b[0m \u001b[0;34m\u001b[0m\u001b[0m\n\u001b[1;32m   1576\u001b[0m         \u001b[0;31m# Bounded fmin?\u001b[0m\u001b[0;34m\u001b[0m\u001b[0;34m\u001b[0m\u001b[0m\n",
      "\u001b[0;32m/home/isaac/miniconda2/lib/python2.7/site-packages/macroeco/models/_distributions.pyc\u001b[0m in \u001b[0;36m_pmf\u001b[0;34m(self, x, mu, sigma)\u001b[0m\n\u001b[1;32m   1602\u001b[0m \u001b[0;34m\u001b[0m\u001b[0m\n\u001b[1;32m   1603\u001b[0m         \u001b[0mnorm\u001b[0m \u001b[0;34m=\u001b[0m \u001b[0;36m1\u001b[0m \u001b[0;34m-\u001b[0m \u001b[0mplognorm_intg_vec\u001b[0m\u001b[0;34m(\u001b[0m\u001b[0;36m0\u001b[0m\u001b[0;34m,\u001b[0m \u001b[0mmu\u001b[0m\u001b[0;34m[\u001b[0m\u001b[0;36m0\u001b[0m\u001b[0;34m]\u001b[0m\u001b[0;34m,\u001b[0m \u001b[0msigma\u001b[0m\u001b[0;34m[\u001b[0m\u001b[0;36m0\u001b[0m\u001b[0;34m]\u001b[0m\u001b[0;34m)\u001b[0m\u001b[0;34m\u001b[0m\u001b[0m\n\u001b[0;32m-> 1604\u001b[0;31m         \u001b[0mpmf_vals\u001b[0m \u001b[0;34m=\u001b[0m \u001b[0mplnorm\u001b[0m\u001b[0;34m.\u001b[0m\u001b[0mpmf\u001b[0m\u001b[0;34m(\u001b[0m\u001b[0mx\u001b[0m\u001b[0;34m,\u001b[0m \u001b[0mmu\u001b[0m\u001b[0;34m,\u001b[0m \u001b[0msigma\u001b[0m\u001b[0;34m)\u001b[0m \u001b[0;34m/\u001b[0m \u001b[0mnorm\u001b[0m\u001b[0;34m\u001b[0m\u001b[0m\n\u001b[0m\u001b[1;32m   1605\u001b[0m         \u001b[0mpmf_vals\u001b[0m\u001b[0;34m[\u001b[0m\u001b[0mx\u001b[0m \u001b[0;34m<\u001b[0m \u001b[0;36m1\u001b[0m\u001b[0;34m]\u001b[0m \u001b[0;34m=\u001b[0m \u001b[0;36m0\u001b[0m\u001b[0;34m\u001b[0m\u001b[0m\n\u001b[1;32m   1606\u001b[0m \u001b[0;34m\u001b[0m\u001b[0m\n",
      "\u001b[0;32m/home/isaac/miniconda2/lib/python2.7/site-packages/scipy/stats/_distn_infrastructure.pyc\u001b[0m in \u001b[0;36mpmf\u001b[0;34m(self, k, *args, **kwds)\u001b[0m\n\u001b[1;32m   2841\u001b[0m         \u001b[0;32mif\u001b[0m \u001b[0mnp\u001b[0m\u001b[0;34m.\u001b[0m\u001b[0many\u001b[0m\u001b[0;34m(\u001b[0m\u001b[0mcond\u001b[0m\u001b[0;34m)\u001b[0m\u001b[0;34m:\u001b[0m\u001b[0;34m\u001b[0m\u001b[0m\n\u001b[1;32m   2842\u001b[0m             \u001b[0mgoodargs\u001b[0m \u001b[0;34m=\u001b[0m \u001b[0margsreduce\u001b[0m\u001b[0;34m(\u001b[0m\u001b[0mcond\u001b[0m\u001b[0;34m,\u001b[0m \u001b[0;34m*\u001b[0m\u001b[0;34m(\u001b[0m\u001b[0;34m(\u001b[0m\u001b[0mk\u001b[0m\u001b[0;34m,\u001b[0m\u001b[0;34m)\u001b[0m\u001b[0;34m+\u001b[0m\u001b[0margs\u001b[0m\u001b[0;34m)\u001b[0m\u001b[0;34m)\u001b[0m\u001b[0;34m\u001b[0m\u001b[0m\n\u001b[0;32m-> 2843\u001b[0;31m             \u001b[0mplace\u001b[0m\u001b[0;34m(\u001b[0m\u001b[0moutput\u001b[0m\u001b[0;34m,\u001b[0m \u001b[0mcond\u001b[0m\u001b[0;34m,\u001b[0m \u001b[0mnp\u001b[0m\u001b[0;34m.\u001b[0m\u001b[0mclip\u001b[0m\u001b[0;34m(\u001b[0m\u001b[0mself\u001b[0m\u001b[0;34m.\u001b[0m\u001b[0m_pmf\u001b[0m\u001b[0;34m(\u001b[0m\u001b[0;34m*\u001b[0m\u001b[0mgoodargs\u001b[0m\u001b[0;34m)\u001b[0m\u001b[0;34m,\u001b[0m \u001b[0;36m0\u001b[0m\u001b[0;34m,\u001b[0m \u001b[0;36m1\u001b[0m\u001b[0;34m)\u001b[0m\u001b[0;34m)\u001b[0m\u001b[0;34m\u001b[0m\u001b[0m\n\u001b[0m\u001b[1;32m   2844\u001b[0m         \u001b[0;32mif\u001b[0m \u001b[0moutput\u001b[0m\u001b[0;34m.\u001b[0m\u001b[0mndim\u001b[0m \u001b[0;34m==\u001b[0m \u001b[0;36m0\u001b[0m\u001b[0;34m:\u001b[0m\u001b[0;34m\u001b[0m\u001b[0m\n\u001b[1;32m   2845\u001b[0m             \u001b[0;32mreturn\u001b[0m \u001b[0moutput\u001b[0m\u001b[0;34m[\u001b[0m\u001b[0;34m(\u001b[0m\u001b[0;34m)\u001b[0m\u001b[0;34m]\u001b[0m\u001b[0;34m\u001b[0m\u001b[0m\n",
      "\u001b[0;32m/home/isaac/miniconda2/lib/python2.7/site-packages/macroeco/models/_distributions.pyc\u001b[0m in \u001b[0;36m_pmf\u001b[0;34m(self, x, mu, sigma)\u001b[0m\n\u001b[1;32m   1456\u001b[0m \u001b[0;34m\u001b[0m\u001b[0m\n\u001b[1;32m   1457\u001b[0m             pmf[xbelow] = plognorm_intg_vec(x[xbelow], mu[xbelow],\n\u001b[0;32m-> 1458\u001b[0;31m                                                                 sigma[xbelow])\n\u001b[0m\u001b[1;32m   1459\u001b[0m \u001b[0;34m\u001b[0m\u001b[0m\n\u001b[1;32m   1460\u001b[0m         \u001b[0;31m# If above, use approximation\u001b[0m\u001b[0;34m\u001b[0m\u001b[0;34m\u001b[0m\u001b[0m\n",
      "\u001b[0;32m/home/isaac/miniconda2/lib/python2.7/site-packages/numpy/lib/function_base.pyc\u001b[0m in \u001b[0;36m__call__\u001b[0;34m(self, *args, **kwargs)\u001b[0m\n\u001b[1;32m   2574\u001b[0m             \u001b[0mvargs\u001b[0m\u001b[0;34m.\u001b[0m\u001b[0mextend\u001b[0m\u001b[0;34m(\u001b[0m\u001b[0;34m[\u001b[0m\u001b[0mkwargs\u001b[0m\u001b[0;34m[\u001b[0m\u001b[0m_n\u001b[0m\u001b[0;34m]\u001b[0m \u001b[0;32mfor\u001b[0m \u001b[0m_n\u001b[0m \u001b[0;32min\u001b[0m \u001b[0mnames\u001b[0m\u001b[0;34m]\u001b[0m\u001b[0;34m)\u001b[0m\u001b[0;34m\u001b[0m\u001b[0m\n\u001b[1;32m   2575\u001b[0m \u001b[0;34m\u001b[0m\u001b[0m\n\u001b[0;32m-> 2576\u001b[0;31m         \u001b[0;32mreturn\u001b[0m \u001b[0mself\u001b[0m\u001b[0;34m.\u001b[0m\u001b[0m_vectorize_call\u001b[0m\u001b[0;34m(\u001b[0m\u001b[0mfunc\u001b[0m\u001b[0;34m=\u001b[0m\u001b[0mfunc\u001b[0m\u001b[0;34m,\u001b[0m \u001b[0margs\u001b[0m\u001b[0;34m=\u001b[0m\u001b[0mvargs\u001b[0m\u001b[0;34m)\u001b[0m\u001b[0;34m\u001b[0m\u001b[0m\n\u001b[0m\u001b[1;32m   2577\u001b[0m \u001b[0;34m\u001b[0m\u001b[0m\n\u001b[1;32m   2578\u001b[0m     \u001b[0;32mdef\u001b[0m \u001b[0m_get_ufunc_and_otypes\u001b[0m\u001b[0;34m(\u001b[0m\u001b[0mself\u001b[0m\u001b[0;34m,\u001b[0m \u001b[0mfunc\u001b[0m\u001b[0;34m,\u001b[0m \u001b[0margs\u001b[0m\u001b[0;34m)\u001b[0m\u001b[0;34m:\u001b[0m\u001b[0;34m\u001b[0m\u001b[0m\n",
      "\u001b[0;32m/home/isaac/miniconda2/lib/python2.7/site-packages/numpy/lib/function_base.pyc\u001b[0m in \u001b[0;36m_vectorize_call\u001b[0;34m(self, func, args)\u001b[0m\n\u001b[1;32m   2650\u001b[0m                       for a in args]\n\u001b[1;32m   2651\u001b[0m \u001b[0;34m\u001b[0m\u001b[0m\n\u001b[0;32m-> 2652\u001b[0;31m             \u001b[0moutputs\u001b[0m \u001b[0;34m=\u001b[0m \u001b[0mufunc\u001b[0m\u001b[0;34m(\u001b[0m\u001b[0;34m*\u001b[0m\u001b[0minputs\u001b[0m\u001b[0;34m)\u001b[0m\u001b[0;34m\u001b[0m\u001b[0m\n\u001b[0m\u001b[1;32m   2653\u001b[0m \u001b[0;34m\u001b[0m\u001b[0m\n\u001b[1;32m   2654\u001b[0m             \u001b[0;32mif\u001b[0m \u001b[0mufunc\u001b[0m\u001b[0;34m.\u001b[0m\u001b[0mnout\u001b[0m \u001b[0;34m==\u001b[0m \u001b[0;36m1\u001b[0m\u001b[0;34m:\u001b[0m\u001b[0;34m\u001b[0m\u001b[0m\n",
      "\u001b[0;32m/home/isaac/miniconda2/lib/python2.7/site-packages/macroeco/models/_distributions.pyc\u001b[0m in \u001b[0;36mplognorm_intg\u001b[0;34m(x, mu, sigma)\u001b[0m\n\u001b[1;32m   1634\u001b[0m                                         ((t - mu) / sigma) ** 2)\n\u001b[1;32m   1635\u001b[0m \u001b[0;34m\u001b[0m\u001b[0m\n\u001b[0;32m-> 1636\u001b[0;31m     \u001b[0mintg\u001b[0m \u001b[0;34m=\u001b[0m \u001b[0mintegrate\u001b[0m\u001b[0;34m.\u001b[0m\u001b[0mquad\u001b[0m\u001b[0;34m(\u001b[0m\u001b[0meq\u001b[0m\u001b[0;34m,\u001b[0m \u001b[0;34m-\u001b[0m\u001b[0mnp\u001b[0m\u001b[0;34m.\u001b[0m\u001b[0minf\u001b[0m\u001b[0;34m,\u001b[0m \u001b[0mnp\u001b[0m\u001b[0;34m.\u001b[0m\u001b[0minf\u001b[0m\u001b[0;34m,\u001b[0m \u001b[0margs\u001b[0m\u001b[0;34m=\u001b[0m\u001b[0;34m(\u001b[0m\u001b[0mx\u001b[0m\u001b[0;34m,\u001b[0m \u001b[0mmu\u001b[0m\u001b[0;34m,\u001b[0m \u001b[0msigma\u001b[0m\u001b[0;34m)\u001b[0m\u001b[0;34m)\u001b[0m\u001b[0;34m[\u001b[0m\u001b[0;36m0\u001b[0m\u001b[0;34m]\u001b[0m\u001b[0;34m\u001b[0m\u001b[0m\n\u001b[0m\u001b[1;32m   1637\u001b[0m \u001b[0;34m\u001b[0m\u001b[0m\n\u001b[1;32m   1638\u001b[0m     norm = np.exp(-0.5 * np.log(2 * np.pi * sigma ** 2) -\n",
      "\u001b[0;32m/home/isaac/miniconda2/lib/python2.7/site-packages/scipy/integrate/quadpack.pyc\u001b[0m in \u001b[0;36mquad\u001b[0;34m(func, a, b, args, full_output, epsabs, epsrel, limit, points, weight, wvar, wopts, maxp1, limlst)\u001b[0m\n\u001b[1;32m    321\u001b[0m     \u001b[0;32mif\u001b[0m \u001b[0;34m(\u001b[0m\u001b[0mweight\u001b[0m \u001b[0;32mis\u001b[0m \u001b[0mNone\u001b[0m\u001b[0;34m)\u001b[0m\u001b[0;34m:\u001b[0m\u001b[0;34m\u001b[0m\u001b[0m\n\u001b[1;32m    322\u001b[0m         retval = _quad(func, a, b, args, full_output, epsabs, epsrel, limit,\n\u001b[0;32m--> 323\u001b[0;31m                        points)\n\u001b[0m\u001b[1;32m    324\u001b[0m     \u001b[0;32melse\u001b[0m\u001b[0;34m:\u001b[0m\u001b[0;34m\u001b[0m\u001b[0m\n\u001b[1;32m    325\u001b[0m         retval = _quad_weight(func, a, b, args, full_output, epsabs, epsrel,\n",
      "\u001b[0;32m/home/isaac/miniconda2/lib/python2.7/site-packages/scipy/integrate/quadpack.pyc\u001b[0m in \u001b[0;36m_quad\u001b[0;34m(func, a, b, args, full_output, epsabs, epsrel, limit, points)\u001b[0m\n\u001b[1;32m    388\u001b[0m             \u001b[0;32mreturn\u001b[0m \u001b[0m_quadpack\u001b[0m\u001b[0;34m.\u001b[0m\u001b[0m_qagse\u001b[0m\u001b[0;34m(\u001b[0m\u001b[0mfunc\u001b[0m\u001b[0;34m,\u001b[0m\u001b[0ma\u001b[0m\u001b[0;34m,\u001b[0m\u001b[0mb\u001b[0m\u001b[0;34m,\u001b[0m\u001b[0margs\u001b[0m\u001b[0;34m,\u001b[0m\u001b[0mfull_output\u001b[0m\u001b[0;34m,\u001b[0m\u001b[0mepsabs\u001b[0m\u001b[0;34m,\u001b[0m\u001b[0mepsrel\u001b[0m\u001b[0;34m,\u001b[0m\u001b[0mlimit\u001b[0m\u001b[0;34m)\u001b[0m\u001b[0;34m\u001b[0m\u001b[0m\n\u001b[1;32m    389\u001b[0m         \u001b[0;32melse\u001b[0m\u001b[0;34m:\u001b[0m\u001b[0;34m\u001b[0m\u001b[0m\n\u001b[0;32m--> 390\u001b[0;31m             \u001b[0;32mreturn\u001b[0m \u001b[0m_quadpack\u001b[0m\u001b[0;34m.\u001b[0m\u001b[0m_qagie\u001b[0m\u001b[0;34m(\u001b[0m\u001b[0mfunc\u001b[0m\u001b[0;34m,\u001b[0m\u001b[0mbound\u001b[0m\u001b[0;34m,\u001b[0m\u001b[0minfbounds\u001b[0m\u001b[0;34m,\u001b[0m\u001b[0margs\u001b[0m\u001b[0;34m,\u001b[0m\u001b[0mfull_output\u001b[0m\u001b[0;34m,\u001b[0m\u001b[0mepsabs\u001b[0m\u001b[0;34m,\u001b[0m\u001b[0mepsrel\u001b[0m\u001b[0;34m,\u001b[0m\u001b[0mlimit\u001b[0m\u001b[0;34m)\u001b[0m\u001b[0;34m\u001b[0m\u001b[0m\n\u001b[0m\u001b[1;32m    391\u001b[0m     \u001b[0;32melse\u001b[0m\u001b[0;34m:\u001b[0m\u001b[0;34m\u001b[0m\u001b[0m\n\u001b[1;32m    392\u001b[0m         \u001b[0;32mif\u001b[0m \u001b[0minfbounds\u001b[0m \u001b[0;34m!=\u001b[0m \u001b[0;36m0\u001b[0m\u001b[0;34m:\u001b[0m\u001b[0;34m\u001b[0m\u001b[0m\n",
      "\u001b[0;32m/home/isaac/miniconda2/lib/python2.7/site-packages/macroeco/models/_distributions.pyc\u001b[0m in \u001b[0;36m<lambda>\u001b[0;34m(t, x, mu, sigma)\u001b[0m\n\u001b[1;32m   1632\u001b[0m     \u001b[0;31m# Integral for plognorm\u001b[0m\u001b[0;34m\u001b[0m\u001b[0;34m\u001b[0m\u001b[0m\n\u001b[1;32m   1633\u001b[0m     eq = lambda t, x, mu, sigma: np.exp(t * x - np.exp(t) - 0.5 *\n\u001b[0;32m-> 1634\u001b[0;31m                                         ((t - mu) / sigma) ** 2)\n\u001b[0m\u001b[1;32m   1635\u001b[0m \u001b[0;34m\u001b[0m\u001b[0m\n\u001b[1;32m   1636\u001b[0m     \u001b[0mintg\u001b[0m \u001b[0;34m=\u001b[0m \u001b[0mintegrate\u001b[0m\u001b[0;34m.\u001b[0m\u001b[0mquad\u001b[0m\u001b[0;34m(\u001b[0m\u001b[0meq\u001b[0m\u001b[0;34m,\u001b[0m \u001b[0;34m-\u001b[0m\u001b[0mnp\u001b[0m\u001b[0;34m.\u001b[0m\u001b[0minf\u001b[0m\u001b[0;34m,\u001b[0m \u001b[0mnp\u001b[0m\u001b[0;34m.\u001b[0m\u001b[0minf\u001b[0m\u001b[0;34m,\u001b[0m \u001b[0margs\u001b[0m\u001b[0;34m=\u001b[0m\u001b[0;34m(\u001b[0m\u001b[0mx\u001b[0m\u001b[0;34m,\u001b[0m \u001b[0mmu\u001b[0m\u001b[0;34m,\u001b[0m \u001b[0msigma\u001b[0m\u001b[0;34m)\u001b[0m\u001b[0;34m)\u001b[0m\u001b[0;34m[\u001b[0m\u001b[0;36m0\u001b[0m\u001b[0;34m]\u001b[0m\u001b[0;34m\u001b[0m\u001b[0m\n",
      "\u001b[0;31mKeyboardInterrupt\u001b[0m: "
     ]
    }
   ],
   "source": [
    "dirs = os.listdir(SIMOUT_DIR)\n",
    "#dirs = [\"K_5000-C_0.01-1\"]\n",
    "for d in dirs:\n",
    "    if not \"K\" in d:\n",
    "        continue\n",
    "    else:\n",
    "        print(d)\n",
    "    if not os.path.isdir(d):\n",
    "        print(\"founda file\")\n",
    "        continue\n",
    "#sys.exit()\n",
    "#if True:\n",
    "    if not os.path.exists(os.path.join(d, OUTFILE)):\n",
    "        continue\n",
    "    with open(os.path.join(d, OUTFILE), 'r') as out:\n",
    "        lines = out.readlines()\n",
    "        for line in lines:\n",
    "            if \"Raw abundance\" in line:\n",
    "                abund = ast.literal_eval(line.split(\"OrderedDict\")[1])\n",
    "                abund = qsort(abund)\n",
    "                abund = unpack_abundances(abund)\n",
    "                best_fit(abund)\n",
    "                #print(\"\\n\")\n",
    "                #plot_models(abund)\n"
   ]
  },
  {
   "cell_type": "markdown",
   "metadata": {},
   "source": [
    "# Do the macro-eco SAD model fit across alpha and lambda values\n",
    "\n",
    "## Load the abundance data"
   ]
  },
  {
   "cell_type": "code",
   "execution_count": 343,
   "metadata": {},
   "outputs": [
    {
     "name": "stdout",
     "output_type": "stream",
     "text": [
      "_x1 ntimepoints 269\n",
      "_x4 ntimepoints 389\n",
      "_x10 ntimepoints 465\n"
     ]
    }
   ],
   "source": [
    "alphas = [\"_x1\", \"_x4\", \"_x10\"]\n",
    "alpha_dat = {x:[] for x in alphas}\n",
    "for a in alphas:\n",
    "    files = glob.glob(SIMOUT_DIR + \"*5000-C_0.01*{}/abundances.txt\".format(a))\n",
    "    abund_dat = []\n",
    "    for f in files:\n",
    "        lines = open(f).readlines()\n",
    "        tmp_abund = []\n",
    "        for line in lines:\n",
    "            try:\n",
    "                ## Parse each line and get rid of bracket characters\n",
    "                abund = ast.literal_eval(line.split(\"OrderedDict\")[1])\n",
    "                abund = qsort(abund)\n",
    "                abund = unpack_abundances(abund)\n",
    "                l = float(line.split()[0])\n",
    "                tmp_abund.append([l] + abund)\n",
    "            except Exception as inst:\n",
    "                print(inst)\n",
    "        abund_dat.extend(tmp_abund)\n",
    "    print(\"{} ntimepoints {}\".format(a, len(abund_dat)))\n",
    "    alpha_dat[a] = abund_dat\n"
   ]
  },
  {
   "cell_type": "markdown",
   "metadata": {},
   "source": [
    "## Now we have to go through all the data and pick out timepoints that are \"close\"\n",
    "## to our timepoints of interest"
   ]
  },
  {
   "cell_type": "code",
   "execution_count": 344,
   "metadata": {},
   "outputs": [
    {
     "name": "stdout",
     "output_type": "stream",
     "text": [
      "Got n coltimes per lambda:\n",
      "0.25 - 18\t0.5 - 5\t0.05 - 23\t0.1 - 30\t1 - 34\t0.75 - 7\t\n",
      "\n",
      "Got n coltimes per lambda:\n",
      "0.25 - 15\t0.5 - 3\t0.05 - 24\t0.1 - 25\t1 - 150\t0.75 - 10\t\n",
      "\n",
      "Got n coltimes per lambda:\n",
      "0.25 - 19\t0.5 - 4\t0.05 - 25\t0.1 - 28\t1 - 225\t0.75 - 10\t\n",
      "\n"
     ]
    }
   ],
   "source": [
    "time_tolerance = 0.03\n",
    "sampling_lambdas = [0.05, 0.1, 0.25, 0.5, 0.75, 1]\n",
    "\n",
    "allabunds = {a:[] for x in alphas}\n",
    "for a in alphas:\n",
    "    ## Dict for storing distributions per timepoint\n",
    "    lambda_dists = {perc:[] for perc in sampling_lambdas}\n",
    "\n",
    "    ## Ineffecient but i don't care\n",
    "    for percent in sampling_lambdas:\n",
    "        coltimes = []\n",
    "        for line in alpha_dat[a]:\n",
    "            ## If the difference between the lambda for each line\n",
    "            ## is close enough to the sampling lambda we want then keep the coltimes\n",
    "            if abs(line[0] - percent) < time_tolerance:\n",
    "                coltimes.append(line[2:])\n",
    "        lambda_dists[percent] = coltimes\n",
    "        #lambda_dists[percent] = np.random.choice(coltimes, 12000, replace=False)\n",
    "    print(\"Got n coltimes per lambda:\")\n",
    "    for k,v in lambda_dists.items():\n",
    "        print(\"{} - {}\\t\".format(k, len(v))),\n",
    "    print(\"\\n\")\n",
    "    allabunds[a] = lambda_dists\n"
   ]
  },
  {
   "cell_type": "code",
   "execution_count": null,
   "metadata": {
    "collapsed": true
   },
   "outputs": [],
   "source": [
    "## Now do the macroeco thing"
   ]
  },
  {
   "cell_type": "code",
   "execution_count": 118,
   "metadata": {},
   "outputs": [
    {
     "name": "stdout",
     "output_type": "stream",
     "text": [
      "('_x1', 0.05)\n",
      "<macroeco.models._distributions.nbinom_ztrunc_gen object at 0x7feb0ff2b190> - 268.859570224\n",
      "<macroeco.models._distributions.nbinom_ztrunc_gen object at 0x7feb0ff2b190> - 309.323111645\n",
      "<macroeco.models._distributions.nbinom_ztrunc_gen object at 0x7feb0ff2b190> - 1104.86450139\n",
      "<macroeco.models._distributions.nbinom_ztrunc_gen object at 0x7feb0ff2b190> - 1124.93056466\n",
      "<macroeco.models._distributions.logser_gen object at 0x7feb0ff2b5d0> - 212.400659806\n",
      "<macroeco.models._distributions.nbinom_ztrunc_gen object at 0x7feb0ff2b190> - 251.502786993\n",
      "<macroeco.models._distributions.logser_gen object at 0x7feb0ff2b5d0> - 376.501923294\n",
      "<macroeco.models._distributions.nbinom_ztrunc_gen object at 0x7feb0ff2b190> - 388.419366275\n",
      "<macroeco.models._distributions.nbinom_ztrunc_gen object at 0x7feb0ff2b190> - 1056.72006628\n",
      "<macroeco.models._distributions.nbinom_ztrunc_gen object at 0x7feb0ff2b190> - 1092.48863029\n",
      "('_x1', 0.1)\n",
      "<macroeco.models._distributions.nbinom_ztrunc_gen object at 0x7feb0ff2b190> - 442.049384212\n",
      "<macroeco.models._distributions.logser_gen object at 0x7feb0ff2b5d0> - 460.645190252\n",
      "<macroeco.models._distributions.logser_gen object at 0x7feb0ff2b5d0> - 437.702899593\n",
      "<macroeco.models._distributions.nbinom_ztrunc_gen object at 0x7feb0ff2b190> - 436.329304883\n",
      "<macroeco.models._distributions.nbinom_ztrunc_gen object at 0x7feb0ff2b190> - 1124.93056466\n",
      "<macroeco.models._distributions.nbinom_ztrunc_gen object at 0x7feb0ff2b190> - 1118.26707867\n",
      "<macroeco.models._distributions.nbinom_ztrunc_gen object at 0x7feb0ff2b190> - 1181.78123679\n",
      "<macroeco.models._distributions.nbinom_ztrunc_gen object at 0x7feb0ff2b190> - 388.419366275\n",
      "<macroeco.models._distributions.logser_gen object at 0x7feb0ff2b5d0> - 450.103546043\n",
      "<macroeco.models._distributions.nbinom_ztrunc_gen object at 0x7feb0ff2b190> - 494.105174276\n",
      "<macroeco.models._distributions.logser_gen object at 0x7feb0ff2b5d0> - 540.21932505\n",
      "<macroeco.models._distributions.nbinom_ztrunc_gen object at 0x7feb0ff2b190> - 1131.83912863\n",
      "<macroeco.models._distributions.nbinom_ztrunc_gen object at 0x7feb0ff2b190> - 1144.7787092\n",
      "<macroeco.models._distributions.plnorm_ztrunc_gen object at 0x7feb0ff2bfd0> - 1092.94379555\n",
      "<macroeco.models._distributions.nbinom_ztrunc_gen object at 0x7feb0ff2b190> - 1098.8898128\n",
      "('_x1', 0.25)\n",
      "<macroeco.models._distributions.plnorm_ztrunc_gen object at 0x7feb0ff2bfd0> - 701.80180495\n",
      "<macroeco.models._distributions.nbinom_ztrunc_gen object at 0x7feb0ff2b190> - 1126.23388082\n",
      "<macroeco.models._distributions.logser_gen object at 0x7feb0ff2b5d0> - 686.383229899\n",
      "<macroeco.models._distributions.nbinom_ztrunc_gen object at 0x7feb0ff2b190> - 673.369595591\n",
      "<macroeco.models._distributions.nbinom_ztrunc_gen object at 0x7feb0ff2b190> - 1108.56211338\n",
      "<macroeco.models._distributions.plnorm_ztrunc_gen object at 0x7feb0ff2bfd0> - 1078.49622135\n",
      "<macroeco.models._distributions.nbinom_ztrunc_gen object at 0x7feb0ff2b190> - 1116.82866077\n",
      "('_x1', 0.5)\n",
      "<macroeco.models._distributions.nbinom_ztrunc_gen object at 0x7feb0ff2b190> - 905.453163578\n",
      "<macroeco.models._distributions.nbinom_ztrunc_gen object at 0x7feb0ff2b190> - 874.278626324\n",
      "<macroeco.models._distributions.plnorm_ztrunc_gen object at 0x7feb0ff2bfd0> - 1126.61233525\n",
      "('_x1', 0.75)\n",
      "<macroeco.models._distributions.nbinom_ztrunc_gen object at 0x7feb0ff2b190> - 1150.76556931\n",
      "<macroeco.models._distributions.nbinom_ztrunc_gen object at 0x7feb0ff2b190> - 1022.41291827\n",
      "<macroeco.models._distributions.nbinom_ztrunc_gen object at 0x7feb0ff2b190> - 1084.58048927\n",
      "('_x1', 1)\n",
      "<macroeco.models._distributions.nbinom_ztrunc_gen object at 0x7feb0ff2b190> - 1095.68467629\n",
      "<macroeco.models._distributions.nbinom_ztrunc_gen object at 0x7feb0ff2b190> - 1080.51338515\n",
      "<macroeco.models._distributions.nbinom_ztrunc_gen object at 0x7feb0ff2b190> - 1096.24325033\n",
      "<macroeco.models._distributions.nbinom_ztrunc_gen object at 0x7feb0ff2b190> - 1128.25584231\n",
      "<macroeco.models._distributions.nbinom_ztrunc_gen object at 0x7feb0ff2b190> - 1141.80796067\n",
      "<macroeco.models._distributions.nbinom_ztrunc_gen object at 0x7feb0ff2b190> - 1055.10103214\n",
      "<macroeco.models._distributions.nbinom_ztrunc_gen object at 0x7feb0ff2b190> - 1085.44764971\n",
      "<macroeco.models._distributions.nbinom_ztrunc_gen object at 0x7feb0ff2b190> - 1135.66909652\n",
      "<macroeco.models._distributions.nbinom_ztrunc_gen object at 0x7feb0ff2b190> - 1095.80238554\n",
      "<macroeco.models._distributions.nbinom_ztrunc_gen object at 0x7feb0ff2b190> - 1098.70396241\n",
      "<macroeco.models._distributions.nbinom_ztrunc_gen object at 0x7feb0ff2b190> - 1157.39861856\n",
      "<macroeco.models._distributions.nbinom_ztrunc_gen object at 0x7feb0ff2b190> - 1135.50623407\n",
      "<macroeco.models._distributions.nbinom_ztrunc_gen object at 0x7feb0ff2b190> - 1176.77442653\n",
      "<macroeco.models._distributions.nbinom_ztrunc_gen object at 0x7feb0ff2b190> - 1108.30992384\n",
      "<macroeco.models._distributions.nbinom_ztrunc_gen object at 0x7feb0ff2b190> - 1081.9908428\n",
      "<macroeco.models._distributions.nbinom_ztrunc_gen object at 0x7feb0ff2b190> - 1127.85978039\n",
      "<macroeco.models._distributions.nbinom_ztrunc_gen object at 0x7feb0ff2b190> - 1098.0878279\n",
      "<macroeco.models._distributions.nbinom_ztrunc_gen object at 0x7feb0ff2b190> - 1051.29442994\n",
      "('_x4', 0.05)\n",
      "<macroeco.models._distributions.plnorm_ztrunc_gen object at 0x7feb0ff2bfd0> - 472.04809365\n",
      "<macroeco.models._distributions.lognorm_gen object at 0x7feb0fbac6d0> - 772.767962717\n",
      "<macroeco.models._distributions.lognorm_gen object at 0x7feb0fbac6d0> - 974.072268185\n",
      "<macroeco.models._distributions.lognorm_gen object at 0x7feb0fbac6d0> - 718.253089468\n",
      "<macroeco.models._distributions.plnorm_ztrunc_gen object at 0x7feb0ff2bfd0> - 963.673397471\n",
      "<macroeco.models._distributions.plnorm_ztrunc_gen object at 0x7feb0ff2bfd0> - 1123.87484618\n",
      "('_x4', 0.1)\n",
      "<macroeco.models._distributions.lognorm_gen object at 0x7feb0fbac6d0> - 1157.19956935\n",
      "<macroeco.models._distributions.lognorm_gen object at 0x7feb0fbac6d0> - 1280.11977414\n",
      "<macroeco.models._distributions.plnorm_ztrunc_gen object at 0x7feb0ff2bfd0> - 1423.26827379\n",
      "<macroeco.models._distributions.plnorm_ztrunc_gen object at 0x7feb0ff2bfd0> - 1123.87484618\n",
      "<macroeco.models._distributions.plnorm_ztrunc_gen object at 0x7feb0ff2bfd0> - 1264.92393017\n",
      "<macroeco.models._distributions.plnorm_ztrunc_gen object at 0x7feb0ff2bfd0> - 1426.38493313\n",
      "('_x4', 0.25)\n",
      "<macroeco.models._distributions.lognorm_gen object at 0x7feb0fbac6d0> - 1936.34925352\n",
      "<macroeco.models._distributions.plnorm_ztrunc_gen object at 0x7feb0ff2bfd0> - 1983.38465483\n",
      "<macroeco.models._distributions.plnorm_ztrunc_gen object at 0x7feb0ff2bfd0> - 1898.92905987\n",
      "<macroeco.models._distributions.plnorm_ztrunc_gen object at 0x7feb0ff2bfd0> - 1937.14381401\n",
      "('_x4', 0.5)\n",
      "<macroeco.models._distributions.plnorm_ztrunc_gen object at 0x7feb0ff2bfd0> - 2481.15721086\n",
      "('_x4', 0.75)\n",
      "<macroeco.models._distributions.plnorm_ztrunc_gen object at 0x7feb0ff2bfd0> - 2838.13243641\n",
      "<macroeco.models._distributions.plnorm_ztrunc_gen object at 0x7feb0ff2bfd0> - 2901.90966104\n",
      "<macroeco.models._distributions.plnorm_ztrunc_gen object at 0x7feb0ff2bfd0> - 2899.55379046\n",
      "('_x4', 1)\n",
      "<macroeco.models._distributions.plnorm_ztrunc_gen object at 0x7feb0ff2bfd0> - 3281.07642327\n",
      "<macroeco.models._distributions.nbinom_ztrunc_gen object at 0x7feb0ff2b190> - 3286.60243868\n",
      "<macroeco.models._distributions.plnorm_ztrunc_gen object at 0x7feb0ff2bfd0> - 3147.58820666\n",
      "<macroeco.models._distributions.plnorm_ztrunc_gen object at 0x7feb0ff2bfd0> - 3151.87444451\n",
      "<macroeco.models._distributions.plnorm_ztrunc_gen object at 0x7feb0ff2bfd0> - 3138.08231238\n",
      "<macroeco.models._distributions.nbinom_ztrunc_gen object at 0x7feb0ff2b190> - 3163.91008128\n",
      "<macroeco.models._distributions.nbinom_ztrunc_gen object at 0x7feb0ff2b190> - 3245.60725331\n",
      "<macroeco.models._distributions.nbinom_ztrunc_gen object at 0x7feb0ff2b190> - 3166.96849609\n",
      "<macroeco.models._distributions.nbinom_ztrunc_gen object at 0x7feb0ff2b190> - 3169.884636\n",
      "<macroeco.models._distributions.nbinom_ztrunc_gen object at 0x7feb0ff2b190> - 3123.86810394\n",
      "<macroeco.models._distributions.nbinom_ztrunc_gen object at 0x7feb0ff2b190> - 3132.5083523\n",
      "<macroeco.models._distributions.nbinom_ztrunc_gen object at 0x7feb0ff2b190> - 3219.90981183\n",
      "<macroeco.models._distributions.nbinom_ztrunc_gen object at 0x7feb0ff2b190> - 3187.04062227\n"
     ]
    },
    {
     "name": "stdout",
     "output_type": "stream",
     "text": [
      "<macroeco.models._distributions.nbinom_ztrunc_gen object at 0x7feb0ff2b190> - 3172.53765881\n",
      "<macroeco.models._distributions.nbinom_ztrunc_gen object at 0x7feb0ff2b190> - 3167.11466559\n",
      "<macroeco.models._distributions.plnorm_ztrunc_gen object at 0x7feb0ff2bfd0> - 3248.72591925\n",
      "<macroeco.models._distributions.plnorm_ztrunc_gen object at 0x7feb0ff2bfd0> - 3173.53342895\n",
      "<macroeco.models._distributions.nbinom_ztrunc_gen object at 0x7feb0ff2b190> - 3242.27087118\n",
      "('_x10', 0.05)\n",
      "<macroeco.models._distributions.lognorm_gen object at 0x7feb0fbac6d0> - 917.064020429\n",
      "<macroeco.models._distributions.lognorm_gen object at 0x7feb0fbac6d0> - 1154.05275018\n",
      "<macroeco.models._distributions.lognorm_gen object at 0x7feb0fbac6d0> - 1372.95589486\n",
      "<macroeco.models._distributions.lognorm_gen object at 0x7feb0fbac6d0> - 951.448320961\n",
      "<macroeco.models._distributions.lognorm_gen object at 0x7feb0fbac6d0> - 1247.98632374\n",
      "<macroeco.models._distributions.lognorm_gen object at 0x7feb0fbac6d0> - 1508.22245758\n",
      "('_x10', 0.1)\n",
      "<macroeco.models._distributions.lognorm_gen object at 0x7feb0fbac6d0> - 1372.95589486\n",
      "<macroeco.models._distributions.lognorm_gen object at 0x7feb0fbac6d0> - 1541.93581548\n",
      "<macroeco.models._distributions.lognorm_gen object at 0x7feb0fbac6d0> - 1727.57343261\n",
      "<macroeco.models._distributions.lognorm_gen object at 0x7feb0fbac6d0> - 1888.28983347\n",
      "<macroeco.models._distributions.lognorm_gen object at 0x7feb0fbac6d0> - 1508.22245758\n",
      "<macroeco.models._distributions.lognorm_gen object at 0x7feb0fbac6d0> - 1686.24629521\n",
      "<macroeco.models._distributions.lognorm_gen object at 0x7feb0fbac6d0> - 1806.99603083\n",
      "<macroeco.models._distributions.lognorm_gen object at 0x7feb0fbac6d0> - 1978.95060609\n",
      "('_x10', 0.25)\n",
      "<macroeco.models._distributions.lognorm_gen object at 0x7feb0fbac6d0> - 2564.50412686\n",
      "<macroeco.models._distributions.lognorm_gen object at 0x7feb0fbac6d0> - 2703.05202268\n",
      "<macroeco.models._distributions.lognorm_gen object at 0x7feb0fbac6d0> - 2652.76276434\n",
      "<macroeco.models._distributions.lognorm_gen object at 0x7feb0fbac6d0> - 2736.41113524\n",
      "('_x10', 0.5)\n",
      "('_x10', 0.75)\n",
      "<macroeco.models._distributions.plnorm_ztrunc_gen object at 0x7feb0ff2bfd0> - 4279.93602411\n",
      "<macroeco.models._distributions.plnorm_ztrunc_gen object at 0x7feb0ff2bfd0> - 4329.61155292\n",
      "('_x10', 1)\n"
     ]
    }
   ],
   "source": [
    "for a in alphas:\n",
    "    for perc in sampling_lambdas:\n",
    "        print(a, perc)\n",
    "        abunds = allabunds[a][perc]\n",
    "        for abund in abunds:\n",
    "            best_fit(abund)"
   ]
  },
  {
   "cell_type": "markdown",
   "metadata": {},
   "source": [
    "# Test 2 sample kolmogorov-smirnov between different alpha values\n"
   ]
  },
  {
   "cell_type": "code",
   "execution_count": 22,
   "metadata": {
    "collapsed": true
   },
   "outputs": [],
   "source": [
    "def plot_pidxy_per_lambda(lambda_dists, xaxis_label, dpi=300, ylabel=\"N Species\", nbins=10, zoom_x=5, normed=True, sharey=False):\n",
    "    f, axarr = plt.subplots(2, 3, figsize=(8,4), dpi=dpi, sharex=True, sharey=sharey)\n",
    "    axarr = [a for b in axarr for a in b]\n",
    "\n",
    "    for i, k, ax in zip(xrange(0,6), sampling_lambdas, axarr):\n",
    "        try:\n",
    "            ax.set_title(u\"Λ = {}\".format(k))\n",
    "            coltimes = lambda_dists[k]\n",
    "            ax.hist(coltimes, color=\"red\", bins=nbins, normed=normed)\n",
    "            if i in [0, 3]:\n",
    "                ax.set_ylabel(ylabel)\n",
    "                #ax.get_yaxis().set_ticks([])\n",
    "            if i in [3, 4, 5]:\n",
    "                ax.set_xlabel(xaxis_label)\n",
    "                #ax.get_xaxis().set_ticks([])\n",
    "\n",
    "            x0, x1 = ax.get_xlim()\n",
    "            ax.set_xlim(0, x1/zoom_x)\n",
    "            ## Super annoying\n",
    "            #ax.get_xaxis().set_ticks(np.arange(int(min(coltimes)), int(max(coltimes)+1), step=int(max(coltimes)/5)))\n",
    "            #ax.set_xticklabels(np.arange(int(min(coltimes)), int(max(coltimes)+1), step=int(max(coltimes)/6)))#, fontsize=7)\n",
    "            data = sorted(coltimes)\n",
    "            loc, sc = expon.fit(data, floc=0)\n",
    "            ## Don't print the scaling factor\n",
    "            #print(\"{} {}\".format(k, sc))\n",
    "            rv = expon(scale=sc)\n",
    "            x = np.linspace(0, max(data), 100)\n",
    "\n",
    "            ax1 = ax.twinx()\n",
    "            ax1.plot(x, rv.pdf(x), color='black')\n",
    "            ax1.get_yaxis().set_ticks([])\n",
    "            ax1.set_xlim(xmin=0)\n",
    "            ax1.set_ylim(ymin=0)\n",
    "            x0, x1 = ax.get_xlim()\n",
    "            ax.set_xlim(0, x1/zoom_x)\n",
    "        except:\n",
    "            pass\n",
    "        \n",
    "    plt.tight_layout()"
   ]
  },
  {
   "cell_type": "markdown",
   "metadata": {},
   "source": [
    "# Load pi x dxy data per alpha"
   ]
  },
  {
   "cell_type": "code",
   "execution_count": 345,
   "metadata": {},
   "outputs": [
    {
     "name": "stdout",
     "output_type": "stream",
     "text": [
      "{'_x4': [], '_x1': [], '_x10': []}\n",
      "Processed ntimepoints 283 275\n",
      "Processed ntimepoints 391 383\n",
      "Processed ntimepoints 460 453\n"
     ]
    }
   ],
   "source": [
    "alphas = [\"_x1\", \"_x4\", \"_x10\"]\n",
    "alpha_dat = {x:[] for x in alphas}\n",
    "print(alpha_dat)\n",
    "for a in alphas:\n",
    "    files = glob.glob(SIMOUT_DIR + \"*5000-C_0.01*{}/pidxy.txt\".format(a))\n",
    "    pi_dat = []\n",
    "    dxy_dat = []\n",
    "    for f in files:\n",
    "        lines = open(f).readlines()\n",
    "        tmp_pi = []\n",
    "        tmp_dxy = []\n",
    "        for line in lines:\n",
    "            try:\n",
    "                ## Parse each line and get rid of bracket characters\n",
    "                ldat = line.strip().split()\n",
    "                l = [float(ldat[0])] + [float(x.translate(None, \"[],\")) for x in ldat[2:]]\n",
    "                if \"pi\" in ldat:\n",
    "                    tmp_pi.append(l)\n",
    "                else:\n",
    "                    tmp_dxy.append(l)\n",
    "            except Exception as inst:\n",
    "                print(inst)\n",
    "        pi_dat.extend(tmp_pi)\n",
    "        dxy_dat.extend(tmp_dxy)\n",
    "    print(\"Processed ntimepoints {} {}\".format(len(pi_dat), len(dxy_dat)))\n",
    "    alpha_dat[a] = {\"pi\":pi_dat, \"dxy\":dxy_dat}\n"
   ]
  },
  {
   "cell_type": "markdown",
   "metadata": {},
   "source": [
    "## Now we have to go through all the data and pick out timepoints that are \"close\"\n",
    "## to our timepoints of interest"
   ]
  },
  {
   "cell_type": "code",
   "execution_count": 348,
   "metadata": {},
   "outputs": [
    {
     "name": "stdout",
     "output_type": "stream",
     "text": [
      "_x1 pi -  0.25 - 20\t0.5 - 6\t0.05 - 35\t0.1 - 40\t1 - 58\t0.75 - 9\t[20, 6, 35, 40, 58, 9]\n",
      "_x1 dxy -  0.25 - 20\t0.5 - 6\t0.05 - 35\t0.1 - 40\t1 - 50\t0.75 - 9\t[20, 6, 35, 40, 50, 9]\n",
      "_x4 pi -  0.25 - 19\t0.5 - 5\t0.05 - 32\t0.1 - 36\t1 - 167\t0.75 - 14\t[19, 5, 32, 36, 167, 14]\n",
      "_x4 dxy -  0.25 - 19\t0.5 - 5\t0.05 - 32\t0.1 - 36\t1 - 159\t0.75 - 14\t[19, 5, 32, 36, 159, 14]\n",
      "_x10 pi -  0.25 - 19\t0.5 - 2\t0.05 - 34\t0.1 - 34\t1 - 235\t0.75 - 9\t[19, 2, 34, 34, 235, 9]\n",
      "_x10 dxy -  0.25 - 19\t0.5 - 2\t0.05 - 34\t0.1 - 34\t1 - 228\t0.75 - 9\t[19, 2, 34, 34, 228, 9]\n"
     ]
    }
   ],
   "source": [
    "time_tolerance = 0.04\n",
    "sampling_lambdas = [0.05, 0.1, 0.25, 0.5, 0.75, 1]\n",
    "\n",
    "allpis = {a:[] for x in alphas}\n",
    "alldxys = {a:[] for x in alphas}\n",
    "for a in alphas:\n",
    "#for a in [\"_x1\"]:\n",
    "    ## Dict for storing distributions per timepoint\n",
    "    for g, dat in alpha_dat[a].items():\n",
    "        lambda_dists = {perc:[] for perc in sampling_lambdas}\n",
    "        ## Ineffecient but i don't care\n",
    "        for percent in sampling_lambdas:\n",
    "            coltimes = []\n",
    "            for line in dat:\n",
    "                ## If the difference between the lambda for each line\n",
    "                ## is close enough to the sampling lambda we want then keep the coltimes\n",
    "                if abs(line[0] - percent) < time_tolerance:\n",
    "                    coltimes.append(line[2:])\n",
    "            lambda_dists[percent] = coltimes\n",
    "            #lambda_dists[percent] = np.random.choice(coltimes, 12000, replace=False)\n",
    "        print(\"{} {} - \".format(a, g)),\n",
    "        for k,v in lambda_dists.items():\n",
    "            print(\"{} - {}\\t\".format(k, len(v))),\n",
    "        print([len(x) for x in lambda_dists.values()])\n",
    "\n",
    "        ## Plot is broken for now\n",
    "        if \"pi\" in g:\n",
    "            allpis[a] = lambda_dists\n",
    "#            plot_pidxy_per_lambda(lambda_dists, u\"Nucleotide diversity (π)\", nbins=50, sharey=False, dpi=50, zoom_x=2)\n",
    "        else:\n",
    "            alldxys[a] = lambda_dists\n",
    "#            plot_pidxy_per_lambda(lambda_dists, r\"Absolute divergence ($D_{xy}$)\", nbins=50, sharey=False, dpi=50, zoom_x=2)"
   ]
  },
  {
   "cell_type": "code",
   "execution_count": 55,
   "metadata": {
    "scrolled": true
   },
   "outputs": [
    {
     "name": "stdout",
     "output_type": "stream",
     "text": [
      "[[0.001649122807017544, 0.006491228070175439, 0.002736842105263158, 0.005052631578947369, 0.007684210526315789, 0.0019298245614035089, 0.003333333333333333, 0.0083859649122807, 0.015543859649122799, 0.0028070175438596493, 0.0010526315789473684, 0.007964912280701755, 0.00035087719298245617, 0.006596491228070176, 0.0043859649122807015, 0.0018596491228070177, 0.0, 0.0036842105263157903, 0.0010526315789473684, 0.0, 0.01473684210526316, 0.002280701754385965, 0.019122807017543854, 0.002105263157894737, 0.003333333333333333, 0.0059649122807017545, 0.019684210526315783, 0.0036842105263157903, 0.007543859649122807, 0.006280701754385965, 0.002280701754385965, 0.005789473684210527, 0.005894736842105263, 0.0029473684210526317, 0.004105263157894738, 0.0015789473684210526, 0.00456140350877193, 0.004035087719298246, 0.0008771929824561404, 0.006315789473684212, 0.0008771929824561404, 0.0005263157894736842, 0.0010526315789473684, 0.00280701754385965, 0.01245614035087719, 0.003333333333333333, 0.004912280701754385, 0.0028070175438596493, 0.0038596491228070177, 0.004736842105263157, 0.013017543859649122, 0.01508771929824561, 0.007192982456140352, 0.00017543859649122808, 0.009649122807017543, 0.0, 0.0, 0.013719298245614029, 0.0, 0.0017543859649122812, 0.008596491228070175, 0.004385964912280702, 0.0008771929824561404, 0.010701754385964914, 0.00368421052631579, 0.002736842105263158, 0.021333333333333326, 0.0007017543859649123, 0.0, 0.00719298245614035, 0.006491228070175439, 0.0022807017543859656, 0.011228070175438592, 0.009508771929824562, 0.009263157894736841, 0.0043859649122807015, 0.015964912280701755, 0.0042105263157894745, 0.00035087719298245617, 0.003157894736842105, 0.016842105263157898, 0.0017192982456140352, 0.0061403508771929825, 0.00035087719298245617, 0.0005263157894736843, 0.0022807017543859656, 0.0015789473684210524, 0.0077192982456140355, 0.0028070175438596493, 0.00649122807017544, 0.01614035087719298, 0.011964912280701756, 0.0008771929824561404, 0.002631578947368421, 0.004385964912280702, 0.00035087719298245617, 0.011824561403508772, 0.0031578947368421056, 0.0017543859649122807, 0.0007017543859649123, 0.0026315789473684214, 0.0007017543859649123, 0.00017543859649122808, 0.0022807017543859647, 0.0008771929824561404, 0.0026315789473684214, 0.005263157894736842, 0.0022807017543859647, 0.0010526315789473686, 0.0043859649122807015, 0.0012280701754385965, 0.0010526315789473684, 0.009578947368421051], [0.0014035087719298247, 0.0059649122807017545, 0.0043859649122807015, 0.007719298245614034, 0.00456140350877193, 0.002631578947368421, 0.0061403508771929825, 0.0019298245614035089, 0.0031578947368421048, 0.004771929824561404, 0.007929824561403509, 0.0007017543859649123, 0.0005263157894736843, 0.0, 0.0029824561403508777, 0.00736842105263158, 0.005894736842105263, 0.005824561403508771, 0.0005263157894736842, 0.0015789473684210524, 0.005614035087719299, 0.0031578947368421056, 0.004912280701754385, 0.0017543859649122807, 0.00736842105263158, 0.0035087719298245615, 0.004912280701754385, 0.006385964912280703, 0.011228070175438597, 0.002456140350877193, 0.002280701754385965, 0.00017543859649122808, 0.0005263157894736842, 0.013754385964912273, 0.0, 0.012105263157894732, 0.00368421052631579, 0.0038596491228070177, 0.004035087719298246, 0.0027719298245614038, 0.01403508771929825, 0.009473684210526316, 0.0029824561403508777, 0.004175438596491228, 0.0006666666666666666, 0.006771929824561403, 0.0, 0.002631578947368421, 0.004561403508771929, 0.0008771929824561404, 0.00017543859649122808, 0.0010526315789473684, 0.005543859649122808, 0.007859649122807018, 0.0, 0.0019298245614035089, 0.009298245614035089, 0.0029473684210526317, 0.0014035087719298245, 0.0, 0.0031578947368421048, 0.007368421052631578, 0.0014035087719298247, 0.005789473684210527, 0.00873684210526316, 0.011052631578947366, 0.0017543859649122807, 0.005543859649122807, 0.0008771929824561404, 0.005789473684210528, 0.0033333333333333335, 0.00456140350877193, 0.0061403508771929825, 0.0017543859649122807, 0.0, 0.015192982456140341, 0.0017543859649122807, 0.0014035087719298245, 0.012105263157894732, 0.009789473684210523, 0.0020350877192982456, 0.0033333333333333335, 0.0015789473684210528, 0.015263157894736841, 0.003157894736842105, 0.00656140350877193, 0.03385964912280705, 0.0015789473684210526, 0.0, 0.0017543859649122807, 0.022596491228070163, 0.0008771929824561404, 0.011263157894736841, 0.005964912280701755, 0.008245614035087718, 0.011052631578947368, 0.0019298245614035084, 0.016491228070175435, 0.0007017543859649123, 0.008807017543859649, 0.0028070175438596493, 0.02147368421052631, 0.008421052631578949, 0.0023859649122807015, 0.0029824561403508773, 0.0010526315789473686, 0.0017543859649122807, 0.0029824561403508777, 0.0012280701754385963, 0.004736842105263158, 0.0038596491228070177, 0.0005263157894736843, 0.0043859649122807015, 0.0010526315789473684, 0.0011929824561403507, 0.00856140350877193, 0.008070175438596491, 0.0007017543859649123, 0.0, 0.004736842105263158, 0.0021052631578947372, 0.0005263157894736842, 0.011403508771929824, 0.002631578947368421, 0.0, 0.0038596491228070177, 0.0, 0.0, 0.009087719298245615, 0.00017543859649122808, 0.0063859649122807016, 0.0007017543859649123, 0.003333333333333333, 0.004736842105263157, 0.006842105263157894, 0.0012280701754385965, 0.01014035087719298, 0.0010526315789473684, 0.0, 0.0015789473684210524, 0.014280701754385963], [0.003754385964912281, 0.011017543859649124, 0.0021052631578947372, 0.0035087719298245615, 0.004210526315789474, 0.0019298245614035084, 0.008421052631578947, 0.004736842105263159, 0.0015789473684210524, 0.006666666666666668, 0.004736842105263158, 0.004912280701754386, 0.012105263157894737, 0.0043859649122807015, 0.004561403508771931, 0.0028771929824561405, 0.0008771929824561404, 0.0014035087719298247, 0.017578947368421048, 0.002280701754385965, 0.0015789473684210526, 0.0017543859649122807, 0.007578947368421053, 0.01631578947368421, 0.003157894736842105, 0.008421052631578945, 0.008070175438596491, 0.00964912280701754, 0.018912280701754384, 0.002842105263157895, 0.0, 0.009649122807017544, 0.004, 0.002631578947368421, 0.007368421052631582, 0.0028070175438596493, 0.0038596491228070186, 0.009859649122807018, 0.0031578947368421056, 0.0029824561403508777, 0.010000000000000002, 0.00017543859649122808, 0.0007017543859649123, 0.00543859649122807, 0.00017543859649122808, 0.012842105263157893, 0.0015789473684210526, 0.01301754385964912, 0.015614035087719295, 0.00035087719298245617, 0.0, 0.003157894736842105, 0.0035087719298245615, 0.0038596491228070177, 0.0028070175438596493, 0.0010526315789473684, 0.004912280701754386, 0.004736842105263159, 0.0005263157894736843, 0.004175438596491229, 0.027649122807017534, 0.005649122807017543, 0.0, 0.00035087719298245617, 0.019824561403508766, 0.003157894736842105, 0.0014035087719298247, 0.0008771929824561404, 0.002596491228070176, 0.0015087719298245612, 0.0014035087719298247, 0.005789473684210527, 0.008035087719298246, 0.006947368421052633, 0.011298245614035087, 0.02249122807017544, 0.008070175438596491, 0.005087719298245615, 0.0, 0.0010526315789473684, 0.005192982456140353, 0.0009473684210526316, 0.0008771929824561404, 0.006807017543859649, 0.003333333333333333, 0.00035087719298245617, 0.00035087719298245617, 0.006666666666666667, 0.0, 0.0031578947368421056, 0.002982456140350877, 0.01052631578947368, 0.014070175438596488, 0.0028070175438596493, 0.009789473684210527, 0.0012280701754385965, 0.0012280701754385963, 0.002982456140350877, 0.0, 0.0, 0.015614035087719295, 0.0029824561403508777, 0.00017543859649122808, 0.0029824561403508773, 0.00035087719298245617, 0.0, 0.0005263157894736843, 0.0, 0.011052631578947366, 0.0010526315789473686, 0.002631578947368421, 0.006456140350877194, 0.0007017543859649123, 0.010350877192982456], [0.0010526315789473684, 0.0036842105263157903, 0.0029824561403508777, 0.0010175438596491228, 0.004736842105263158, 0.0010526315789473686, 0.002456140350877193, 0.0063157894736842095, 0.009473684210526316, 0.0033333333333333335, 0.0017543859649122807, 0.008877192982456142, 0.002105263157894737, 0.0015789473684210524, 0.003859649122807017, 0.006491228070175439, 0.0007017543859649123, 0.00017543859649122808, 0.01992982456140351, 0.001964912280701754, 0.004771929824561404, 0.005087719298245615, 0.0015789473684210526, 0.00017543859649122808, 0.0019298245614035089, 0.013789473684210527, 0.0026315789473684214, 0.004035087719298246, 0.0021052631578947372, 0.0024561403508771926, 0.009228070175438596, 0.008456140350877193, 0.0015789473684210524, 0.015403508771929827, 0.0017543859649122807, 0.0014035087719298247, 0.004912280701754387, 0.004350877192982457, 0.0, 0.0, 0.003157894736842105, 0.004736842105263157, 0.015263157894736845, 0.0, 0.006736842105263157, 0.0012280701754385963, 0.003333333333333333, 0.008947368421052633, 0.0022105263157894735, 0.0016842105263157893, 0.006842105263157895, 0.00035087719298245617, 0.0029824561403508777, 0.006666666666666666, 0.004912280701754386, 0.0029824561403508777, 0.012491228070175437, 0.0017543859649122807, 0.004210526315789474, 0.00017543859649122808, 0.010771929824561403, 0.00736842105263158, 0.00017543859649122808, 0.0035087719298245615, 0.007087719298245616, 0.0028070175438596493, 0.002, 0.024210526315789467, 0.009087719298245613, 0.002280701754385965, 0.01568421052631579, 0.004561403508771931, 0.0014035087719298247, 0.0024912280701754387, 0.00736842105263158, 0.040175438596491225, 0.0009824561403508772, 0.0015789473684210524, 0.0017543859649122807, 0.0, 0.002280701754385965, 0.0033333333333333335, 0.017473684210526315, 0.0018596491228070177, 0.000912280701754386, 0.04210526315789476, 0.0021052631578947372, 0.00456140350877193, 0.002105263157894737, 0.0028070175438596493, 0.0143859649122807, 0.004035087719298246, 0.005087719298245616, 0.014245614035087721, 0.015228070175438596, 0.0008771929824561404, 0.019298245614035082, 0.005859649122807017, 0.005614035087719299, 0.005964912280701755, 0.0024561403508771926, 0.0024561403508771926, 0.01052631578947368, 0.0019298245614035089, 0.0012280701754385963, 0.006947368421052632, 0.0028070175438596493, 0.005263157894736842, 0.003157894736842105, 0.0036842105263157903, 0.0, 0.013298245614035089, 0.0015789473684210526, 0.002456140350877193, 0.008421052631578945, 0.004140350877192983, 0.00456140350877193, 0.011052631578947368, 0.0014035087719298247, 0.027684210526315787, 0.0019298245614035089, 0.0012280701754385963, 0.007263157894736841, 0.0, 0.0028070175438596493, 0.0028070175438596498, 0.0, 0.0017543859649122807, 0.005263157894736844, 0.016666666666666666, 0.00017543859649122808, 0.0008771929824561404, 0.0010526315789473686, 0.00035087719298245617, 0.0, 0.005263157894736842, 0.0012280701754385963, 0.004421052631578948, 0.012456140350877193, 0.0042105263157894745, 0.0012982456140350877, 0.0010526315789473686, 0.0008771929824561404, 0.004035087719298246, 0.0030175438596491224, 0.01105263157894737, 0.0017543859649122807, 0.014596491228070173]]\n"
     ]
    }
   ],
   "source": [
    "print(lambda_dists[0.05])"
   ]
  },
  {
   "cell_type": "code",
   "execution_count": 350,
   "metadata": {},
   "outputs": [
    {
     "name": "stdout",
     "output_type": "stream",
     "text": [
      "pi _x1 _x1 0.05 - 1225 - 246(0.200816326531) / 236(0.192653061224)\n",
      "pi _x1 _x1 0.1 - 1600 - 237(0.148125) / 266(0.16625)\n",
      "pi _x1 _x1 0.25 - 400 - 32(0.08) / 46(0.115)\n",
      "pi _x1 _x1 0.5 - 36 - 2(0.0555555555556) / 3(0.0833333333333)\n",
      "pi _x1 _x1 0.75 - 81 - 7(0.0864197530864) / 11(0.135802469136)\n",
      "pi _x1 _x1 1 - 3364 - 413(0.122770511296) / 490(0.145659928656)\n",
      "pi _x1 _x4 0.05 - 1120 - 226(0.201785714286) / 245(0.21875)\n",
      "pi _x1 _x4 0.1 - 1440 - 329(0.228472222222) / 343(0.238194444444)\n",
      "pi _x1 _x4 0.25 - 380 - 53(0.139473684211) / 64(0.168421052632)\n",
      "pi _x1 _x4 0.5 - 30 - 2(0.0666666666667) / 1(0.0333333333333)\n",
      "pi _x1 _x4 0.75 - 126 - 17(0.134920634921) / 14(0.111111111111)\n",
      "pi _x1 _x4 1 - 9686 - 1049(0.108300640099) / 1165(0.120276688003)\n",
      "pi _x1 _x10 0.05 - 1190 - 195(0.163865546218) / 252(0.211764705882)\n",
      "pi _x1 _x10 0.1 - 1360 - 289(0.2125) / 330(0.242647058824)\n",
      "pi _x1 _x10 0.25 - 380 - 56(0.147368421053) / 76(0.2)\n",
      "pi _x1 _x10 0.5 - 12 - 0(0.0) / 2(0.166666666667)\n",
      "pi _x1 _x10 0.75 - 81 - 11(0.135802469136) / 9(0.111111111111)\n",
      "pi _x1 _x10 1 - 13630 - 2113(0.15502567865) / 2572(0.188701393984)\n",
      "pi _x4 _x1 0.05 - 1120 - 238(0.2125) / 199(0.177678571429)\n",
      "pi _x4 _x1 0.1 - 1440 - 300(0.208333333333) / 385(0.267361111111)\n",
      "pi _x4 _x1 0.25 - 380 - 58(0.152631578947) / 70(0.184210526316)\n",
      "pi _x4 _x1 0.5 - 30 - 5(0.166666666667) / 4(0.133333333333)\n",
      "pi _x4 _x1 0.75 - 126 - 12(0.0952380952381) / 20(0.15873015873)\n",
      "pi _x4 _x1 1 - 9686 - 1060(0.109436299814) / 1171(0.120896138757)\n",
      "pi _x4 _x4 0.05 - 1024 - 123(0.1201171875) / 133(0.1298828125)\n",
      "pi _x4 _x4 0.1 - 1296 - 103(0.079475308642) / 129(0.099537037037)\n",
      "pi _x4 _x4 0.25 - 361 - 13(0.0360110803324) / 27(0.0747922437673)\n",
      "pi _x4 _x4 0.5 - 25 - 3(0.12) / 1(0.04)\n",
      "pi _x4 _x4 0.75 - 196 - 5(0.0255102040816) / 8(0.0408163265306)\n",
      "pi _x4 _x4 1 - 27889 - 1794(0.0643264369465) / 2208(0.0791709993187)\n",
      "pi _x4 _x10 0.05 - 1088 - 146(0.134191176471) / 179(0.164522058824)\n",
      "pi _x4 _x10 0.1 - 1224 - 88(0.0718954248366) / 117(0.0955882352941)\n",
      "pi _x4 _x10 0.25 - 361 - 28(0.0775623268698) / 26(0.0720221606648)\n",
      "pi _x4 _x10 0.5 - 10 - 0(0.0) / 2(0.2)\n",
      "pi _x4 _x10 0.75 - 126 - 14(0.111111111111) / 19(0.150793650794)\n",
      "pi _x4 _x10 1 - 39245 - 6706(0.170875270735) / 8788(0.223926614855)\n",
      "pi _x10 _x1 0.05 - 1190 - 220(0.18487394958) / 232(0.194957983193)\n",
      "pi _x10 _x1 0.1 - 1360 - 280(0.205882352941) / 327(0.240441176471)\n",
      "pi _x10 _x1 0.25 - 380 - 49(0.128947368421) / 67(0.176315789474)\n",
      "pi _x10 _x1 0.5 - 12 - 0(0.0) / 2(0.166666666667)\n",
      "pi _x10 _x1 0.75 - 81 - 5(0.0617283950617) / 6(0.0740740740741)\n",
      "pi _x10 _x1 1 - 13630 - 2070(0.151870873074) / 2414(0.177109317682)\n",
      "pi _x10 _x4 0.05 - 1088 - 145(0.133272058824) / 155(0.142463235294)\n",
      "pi _x10 _x4 0.1 - 1224 - 111(0.0906862745098) / 121(0.0988562091503)\n",
      "pi _x10 _x4 0.25 - 361 - 24(0.0664819944598) / 30(0.0831024930748)\n",
      "pi _x10 _x4 0.5 - 10 - 1(0.1) / 0(0.0)\n",
      "pi _x10 _x4 0.75 - 126 - 11(0.0873015873016) / 27(0.214285714286)\n",
      "pi _x10 _x4 1 - 39245 - 6650(0.169448337368) / 8790(0.223977576761)\n",
      "pi _x10 _x10 0.05 - 1156 - 154(0.13321799308) / 182(0.157439446367)\n",
      "pi _x10 _x10 0.1 - 1156 - 102(0.0882352941176) / 106(0.0916955017301)\n",
      "pi _x10 _x10 0.25 - 361 - 23(0.0637119113573) / 27(0.0747922437673)\n",
      "pi _x10 _x10 0.5 - 4 - 0(0.0) / 0(0.0)\n",
      "pi _x10 _x10 0.75 - 81 - 2(0.0246913580247) / 7(0.0864197530864)\n",
      "pi _x10 _x10 1 - 55225 - 3379(0.0611860570394) / 4232(0.076631960163)\n",
      "dxy _x1 _x1 0.05 - 1225 - 219(0.178775510204) / 266(0.217142857143)\n",
      "dxy _x1 _x1 0.1 - 1600 - 235(0.146875) / 276(0.1725)\n",
      "dxy _x1 _x1 0.25 - 400 - 41(0.1025) / 43(0.1075)\n",
      "dxy _x1 _x1 0.5 - 36 - 2(0.0555555555556) / 4(0.111111111111)\n",
      "dxy _x1 _x1 0.75 - 81 - 1(0.0123456790123) / 9(0.111111111111)\n",
      "dxy _x1 _x1 1 - 2500 - 226(0.0904) / 268(0.1072)\n",
      "dxy _x1 _x4 0.05 - 1120 - 217(0.19375) / 257(0.229464285714)\n",
      "dxy _x1 _x4 0.1 - 1440 - 298(0.206944444444) / 312(0.216666666667)\n",
      "dxy _x1 _x4 0.25 - 380 - 36(0.0947368421053) / 59(0.155263157895)\n",
      "dxy _x1 _x4 0.5 - 30 - 2(0.0666666666667) / 1(0.0333333333333)\n",
      "dxy _x1 _x4 0.75 - 126 - 5(0.0396825396825) / 15(0.119047619048)\n",
      "dxy _x1 _x4 1 - 7950 - 606(0.0762264150943) / 787(0.0989937106918)\n",
      "dxy _x1 _x10 0.05 - 1190 - 204(0.171428571429) / 252(0.211764705882)\n",
      "dxy _x1 _x10 0.1 - 1360 - 240(0.176470588235) / 333(0.244852941176)\n",
      "dxy _x1 _x10 0.25 - 380 - 36(0.0947368421053) / 58(0.152631578947)\n",
      "dxy _x1 _x10 0.5 - 12 - 0(0.0) / 2(0.166666666667)\n",
      "dxy _x1 _x10 0.75 - 81 - 11(0.135802469136) / 17(0.20987654321)\n",
      "dxy _x1 _x10 1 - 11400 - 2519(0.220964912281) / 3594(0.315263157895)\n",
      "dxy _x4 _x1 0.05 - 1120 - 223(0.199107142857) / 254(0.226785714286)\n",
      "dxy _x4 _x1 0.1 - 1440 - 263(0.182638888889) / 333(0.23125)\n",
      "dxy _x4 _x1 0.25 - 380 - 41(0.107894736842) / 51(0.134210526316)\n",
      "dxy _x4 _x1 0.5 - 30 - 3(0.1) / 2(0.0666666666667)\n",
      "dxy _x4 _x1 0.75 - 126 - 9(0.0714285714286) / 11(0.0873015873016)\n",
      "dxy _x4 _x1 1 - 7950 - 619(0.0778616352201) / 723(0.0909433962264)\n",
      "dxy _x4 _x4 0.05 - 1024 - 104(0.1015625) / 142(0.138671875)\n",
      "dxy _x4 _x4 0.1 - 1296 - 89(0.0686728395062) / 130(0.100308641975)\n",
      "dxy _x4 _x4 0.25 - 361 - 16(0.0443213296399) / 28(0.0775623268698)\n",
      "dxy _x4 _x4 0.5 - 25 - 3(0.12) / 5(0.2)\n",
      "dxy _x4 _x4 0.75 - 196 - 10(0.0510204081633) / 15(0.0765306122449)\n",
      "dxy _x4 _x4 1 - 25281 - 1407(0.0556544440489) / 1992(0.0787943514893)\n",
      "dxy _x4 _x10 0.05 - 1088 - 142(0.130514705882) / 145(0.133272058824)\n",
      "dxy _x4 _x10 0.1 - 1224 - 93(0.0759803921569) / 122(0.0996732026144)\n",
      "dxy _x4 _x10 0.25 - 361 - 19(0.0526315789474) / 28(0.0775623268698)\n",
      "dxy _x4 _x10 0.5 - 10 - 1(0.1) / 2(0.2)\n",
      "dxy _x4 _x10 0.75 - 126 - 20(0.15873015873) / 27(0.214285714286)\n",
      "dxy _x4 _x10 1 - 36252 - 6567(0.181148626283) / 9546(0.263323402847)\n",
      "dxy _x10 _x1 0.05 - 1190 - 231(0.194117647059) / 266(0.223529411765)\n",
      "dxy _x10 _x1 0.1 - 1360 - 299(0.219852941176) / 321(0.236029411765)\n",
      "dxy _x10 _x1 0.25 - 380 - 39(0.102631578947) / 47(0.123684210526)\n",
      "dxy _x10 _x1 0.5 - 12 - 0(0.0) / 1(0.0833333333333)\n",
      "dxy _x10 _x1 0.75 - 81 - 11(0.135802469136) / 12(0.148148148148)\n",
      "dxy _x10 _x1 1 - 11400 - 2513(0.220438596491) / 3521(0.308859649123)\n",
      "dxy _x10 _x4 0.05 - 1088 - 124(0.113970588235) / 171(0.157169117647)\n",
      "dxy _x10 _x4 0.1 - 1224 - 102(0.0833333333333) / 117(0.0955882352941)\n",
      "dxy _x10 _x4 0.25 - 361 - 16(0.0443213296399) / 34(0.0941828254848)\n",
      "dxy _x10 _x4 0.5 - 10 - 2(0.2) / 0(0.0)\n",
      "dxy _x10 _x4 0.75 - 126 - 18(0.142857142857) / 33(0.261904761905)\n",
      "dxy _x10 _x4 1 - 36252 - 6585(0.181645150612) / 9473(0.261309720843)\n",
      "dxy _x10 _x10 0.05 - 1156 - 119(0.102941176471) / 158(0.136678200692)\n",
      "dxy _x10 _x10 0.1 - 1156 - 87(0.0752595155709) / 97(0.0839100346021)\n",
      "dxy _x10 _x10 0.25 - 361 - 20(0.0554016620499) / 29(0.0803324099723)\n",
      "dxy _x10 _x10 0.5 - 4 - 0(0.0) / 0(0.0)\n",
      "dxy _x10 _x10 0.75 - 81 - 6(0.0740740740741) / 8(0.0987654320988)\n",
      "dxy _x10 _x10 1 - 51984 - 2658(0.0511311172669) / 3690(0.0709833795014)\n"
     ]
    }
   ],
   "source": [
    "from scipy.stats import ks_2samp\n",
    "dat = []\n",
    "for k,v in {\"pi\":allpis, \"dxy\":alldxys}.items():\n",
    "    alldata = v\n",
    "    for a in alphas:\n",
    "        for b in alphas:\n",
    "            for perc in sampling_lambdas:\n",
    "                comparisons = 0    \n",
    "                ks_count = 0\n",
    "                ad_count = 0\n",
    "                ps = alldata[a][perc]\n",
    "                qs = alldata[b][perc]\n",
    "                for p, q in itertools.product(ps, qs):\n",
    "                    comparisons += 1\n",
    "                    try:\n",
    "                        _, pval = ks_2samp(np.random.choice(p, 50), np.random.choice(q, 50))\n",
    "                        if float(pval) < 0.05:\n",
    "                            ks_count += 1\n",
    "                        _, _, pval = scipy.stats.anderson_ksamp([np.random.choice(p, 50), np.random.choice(q, 50)])\n",
    "                        if float(pval < 0.05):\n",
    "                            ad_count += 1\n",
    "                    except:\n",
    "                        ## Just move on if something barks\n",
    "                        continue\n",
    "                print(\"{} {} {} {} - {} - {}({}) / {}({})\".format(k, a, b, perc, comparisons, \\\n",
    "                                                                  ks_count, ks_count/(float(comparisons)), \\\n",
    "                                                                  ad_count, ad_count/(float(comparisons))))\n",
    "                #avgp = sum([len(x) for x in ps])/len(ps)\n",
    "                #avgq = sum([len(x) for x in qs])/len(qs)\n",
    "                #print(avgp, avgq)\n",
    "                "
   ]
  },
  {
   "cell_type": "code",
   "execution_count": 254,
   "metadata": {},
   "outputs": [
    {
     "name": "stdout",
     "output_type": "stream",
     "text": [
      "423\n"
     ]
    }
   ],
   "source": [
    "avg = sum([len(x) for x in qs])/len(ps)\n",
    "print(avg)"
   ]
  },
  {
   "cell_type": "code",
   "execution_count": 286,
   "metadata": {
    "collapsed": true
   },
   "outputs": [
    {
     "name": "stdout",
     "output_type": "stream",
     "text": [
      "(415, 410)\n",
      "(415, 419)\n",
      "(417, 414)\n",
      "(423, 419)\n",
      "(423, 416)\n",
      "(410, 416)\n",
      "(421, 415)\n",
      "(421, 415)\n",
      "(412, 425)\n",
      "(412, 417)\n",
      "(412, 413)\n",
      "(413, 415)\n",
      "(414, 418)\n",
      "(413, 417)\n",
      "(413, 410)\n",
      "(413, 413)\n",
      "(419, 413)\n",
      "(419, 413)\n",
      "(418, 425)\n",
      "(418, 413)\n"
     ]
    },
    {
     "data": {
      "image/png": "[encoded data removed]",
      "text/plain": [
       "<matplotlib.figure.Figure at 0x7fe2c67d6790>"
      ]
     },
     "metadata": {},
     "output_type": "display_data"
    }
   ],
   "source": [
    "import itertools\n",
    "\n",
    "ps = alldxys[\"_x10\"][1][:15]\n",
    "qs = alldata[\"_x10\"][1][:15]\n",
    "for p, q in itertools.product(ps, qs):\n",
    "    _, pval = ks_2samp(np.random.choice(p, 100), np.random.choice(q, 100))\n",
    "    if pval < 0.05:\n",
    "        print(len(p), len(q))\n",
    "        plt.hist(p, histtype=\"step\", cumulative=True, normed=True, bins=100, color='r')\n",
    "        plt.hist(q, histtype=\"step\", cumulative=True, normed=True, bins=100, color='b')"
   ]
  },
  {
   "cell_type": "code",
   "execution_count": 290,
   "metadata": {},
   "outputs": [
    {
     "name": "stdout",
     "output_type": "stream",
     "text": [
      "1264 1259\n",
      "Ks_2sampResult(statistic=0.065000000000000002, pvalue=0.15267889513474225)\n"
     ]
    },
    {
     "data": {
      "image/png": "[encoded data removed]",
      "text/plain": [
       "<matplotlib.figure.Figure at 0x7fe2c6eeded0>"
      ]
     },
     "metadata": {},
     "output_type": "display_data"
    }
   ],
   "source": [
    "#print(allpis[\"_x1\"][1][0][:10])\n",
    "m = np.array([y for x in allpis[\"_x1\"][0.1] for y in x])\n",
    "p = m[m<0.06]\n",
    "print(\"{} {}\".format(len(m), len(p)))\n",
    "m = np.array([y for x in allpis[\"_x1\"][0.1] for y in x])\n",
    "d = m[m<0.06]\n",
    "plt.hist(d[:1000], histtype=\"step\", cumulative=True, normed=True, bins=100, color=\"r\")\n",
    "plt.hist(p[:1000], histtype=\"step\", cumulative=True, normed=True, bins=100, color=\"b\")\n",
    "print(ks_2samp(p[:600],d[600:1200]))\n",
    "m.sort()\n",
    "d.sort()"
   ]
  },
  {
   "cell_type": "code",
   "execution_count": 335,
   "metadata": {},
   "outputs": [
    {
     "name": "stdout",
     "output_type": "stream",
     "text": [
      "2210 2210\n",
      "Anderson_ksampResult(statistic=6.9206238469566594, critical_values=array([ 0.325,  1.226,  1.961,  2.718,  3.752]), significance_level=0.0008736936280247924)\n"
     ]
    },
    {
     "data": {
      "image/png": "[encoded data removed]",
      "text/plain": [
       "<matplotlib.figure.Figure at 0x7fe2c695ec50>"
      ]
     },
     "metadata": {},
     "output_type": "display_data"
    }
   ],
   "source": [
    "#print(allpis[\"_x1\"][1][0][:10])\n",
    "m = np.array([y for x in allpis[\"_x1\"][1] for y in x])\n",
    "p = m[m<0.06]\n",
    "print(\"{} {}\".format(len(m), len(p)))\n",
    "m = np.array([y for x in allpis[\"_x10\"][0.25] for y in x])\n",
    "d = m[m<0.06]\n",
    "plt.hist(d[:1000], histtype=\"step\", cumulative=True, normed=True, bins=100, color=\"r\")\n",
    "plt.hist(p[:1000], histtype=\"step\", cumulative=True, normed=True, bins=100, color=\"b\")\n",
    "print(scipy.stats.anderson_ksamp([p[:100] ,d[:100]]))\n",
    "m.sort()\n",
    "d.sort()"
   ]
  },
  {
   "cell_type": "code",
   "execution_count": 235,
   "metadata": {},
   "outputs": [
    {
     "data": {
      "text/plain": [
       "array([ 0.02725762,  0.02757156,  0.02802401,  0.02934441,  0.02981533,\n",
       "        0.0299169 ,  0.03028624,  0.03434903,  0.03530933,  0.03746999,\n",
       "        0.03840259,  0.04237304,  0.04376731,  0.0465097 ,  0.11724838,\n",
       "        0.13039705,  0.13818098,  0.14025854,  0.14613112,  0.15248384])"
      ]
     },
     "execution_count": 235,
     "metadata": {},
     "output_type": "execute_result"
    }
   ],
   "source": [
    "m[-20:]"
   ]
  }
 ],
 "metadata": {
  "anaconda-cloud": {},
  "kernelspec": {
   "display_name": "Python 2",
   "language": "python",
   "name": "python2"
  },
  "language_info": {
   "codemirror_mode": {
    "name": "ipython",
    "version": 2
   },
   "file_extension": ".py",
   "mimetype": "text/x-python",
   "name": "python",
   "nbconvert_exporter": "python",
   "pygments_lexer": "ipython2",
   "version": "2.7.13"
  }
 },
 "nbformat": 4,
 "nbformat_minor": 1
}
