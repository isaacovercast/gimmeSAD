{
 "cells": [
  {
   "cell_type": "code",
   "execution_count": 2,
   "metadata": {
    "collapsed": true
   },
   "outputs": [],
   "source": [
    "%matplotlib inline\n",
    "import os\n",
    "\n",
    "GIMME_DIR = \"/home/isaac/gimmeSAD\"\n",
    "SIMOUT_DIR = os.path.join(GIMME_DIR, \"new_sims/\")\n",
    "\n",
    "os.chdir(GIMME_DIR)\n",
    "import implicit_BI\n",
    "import gimmeSAD\n",
    "import numpy as np\n",
    "import matplotlib.pyplot as plt\n",
    "import itertools\n"
   ]
  },
  {
   "cell_type": "code",
   "execution_count": 3,
   "metadata": {
    "collapsed": true
   },
   "outputs": [],
   "source": [
    "def load_pidxy(filename):\n",
    "    with open(filename) as infile:\n",
    "        dat = []\n",
    "        for line in infile.readlines():\n",
    "            dat.append(line.strip().split())\n",
    "    dat = np.array(dat)\n",
    "    return dat"
   ]
  },
  {
   "cell_type": "code",
   "execution_count": 15,
   "metadata": {},
   "outputs": [
    {
     "name": "stdout",
     "output_type": "stream",
     "text": [
      "['3681' '0.00251605641355' '10000' '0.011953273567' '0.0037' '0.0013'\n",
      " '1.40594042557' '17' '0' '3' '0' '1' '0' '0' '0' '0' '1']\n"
     ]
    },
    {
     "ename": "NameError",
     "evalue": "name 'times' is not defined",
     "output_type": "error",
     "traceback": [
      "\u001b[0;31m---------------------------------------------------------------------------\u001b[0m",
      "\u001b[0;31mNameError\u001b[0m                                 Traceback (most recent call last)",
      "\u001b[0;32m<ipython-input-15-a56db4de3e43>\u001b[0m in \u001b[0;36m<module>\u001b[0;34m()\u001b[0m\n\u001b[1;32m      8\u001b[0m \u001b[0;31m#power_smooth = spline(times, shans, xnew)\u001b[0m\u001b[0;34m\u001b[0m\u001b[0;34m\u001b[0m\u001b[0m\n\u001b[1;32m      9\u001b[0m \u001b[0;34m\u001b[0m\u001b[0m\n\u001b[0;32m---> 10\u001b[0;31m \u001b[0mplt\u001b[0m\u001b[0;34m.\u001b[0m\u001b[0mplot\u001b[0m\u001b[0;34m(\u001b[0m\u001b[0mtimes\u001b[0m\u001b[0;34m,\u001b[0m \u001b[0mshans\u001b[0m\u001b[0;34m)\u001b[0m\u001b[0;34m\u001b[0m\u001b[0m\n\u001b[0m\u001b[1;32m     11\u001b[0m \u001b[0mplt\u001b[0m\u001b[0;34m.\u001b[0m\u001b[0mshow\u001b[0m\u001b[0;34m(\u001b[0m\u001b[0;34m)\u001b[0m\u001b[0;34m\u001b[0m\u001b[0m\n",
      "\u001b[0;31mNameError\u001b[0m: name 'times' is not defined"
     ]
    }
   ],
   "source": [
    "from scipy.interpolate import spline\n",
    "\n",
    "dat = load_pidxy(\"/home/isaac/gimmeSAD/1d_sims/K_3681-C_0.00251605641355_1503168927.64/sumstats.txt\")\n",
    "print(dat[2])\n",
    "#times = np.array(map(float, dat[1:,3]))\n",
    "shans = np.array(map(float, dat[1:,6]))\n",
    "xnew = np.linspace(0, 1, 300)\n",
    "#power_smooth = spline(times, shans, xnew)\n",
    "\n",
    "plt.plot(times, shans)\n",
    "plt.show()"
   ]
  },
  {
   "cell_type": "code",
   "execution_count": 71,
   "metadata": {},
   "outputs": [
    {
     "name": "stdout",
     "output_type": "stream",
     "text": [
      "[11, 12, 5, 2, 1, 0, 0, 0, 0, 2]\n",
      "[  1.12405594e+01   4.88268065e+00  -6.95308858e+00   2.08082751e+00\n",
      "  -2.46911422e-01   1.03846154e-02]\n"
     ]
    },
    {
     "data": {
      "text/plain": [
       "[<matplotlib.lines.Line2D at 0x7fc0028f8f10>]"
      ]
     },
     "execution_count": 71,
     "metadata": {},
     "output_type": "execute_result"
    },
    {
     "data": {
      "image/png": "[encoded data removed]",
      "text/plain": [
       "<matplotlib.figure.Figure at 0x7fc0029c90d0>"
      ]
     },
     "metadata": {},
     "output_type": "display_data"
    }
   ],
   "source": [
    "import numpy.polynomial.polynomial as poly\n",
    "hist = [int(x) for x in dat[50][7:]]\n",
    "print(hist)\n",
    "plt.bar(np.arange(len(hist)), height=hist)\n",
    "y = hist\n",
    "x = xrange(len(hist))\n",
    "x_new = np.linspace(0,10)\n",
    "coefs = poly.polyfit(x, y, 5)\n",
    "print(coefs)\n",
    "ffit = poly.polyval(x_new, coefs)\n",
    "plt.plot(x_new, ffit)\n",
    "#plt.hist(hist)"
   ]
  },
  {
   "cell_type": "markdown",
   "metadata": {},
   "source": [
    "## Get mean pi and dxy\n"
   ]
  },
  {
   "cell_type": "code",
   "execution_count": 72,
   "metadata": {},
   "outputs": [
    {
     "name": "stdout",
     "output_type": "stream",
     "text": [
      "[\"Parameters - Namespace(K=3893, colonizers=0, colrate=0.00775090300895, curves=False, do_plots=False, force=False, meta='metacommunity_LS4.txt', mode='volcanic', model=2, nsims=1000000000, octaves=False, outdir='1d_sims/K_3893-C_0.00775090300895_1503176756.18', plot_models=False, quiet=True, recording_period=100000, verbose=False)\\n\", 'Raw abundance dist - OrderedDict([(1, 14), (2, 12), (3, 7), (4, 4), (5, 4), (6, 2), (7, 4), (8, 2), (10, 3), (13, 1), (14, 3), (15, 2), (16, 4), (19, 1), (148, 1), (149, 1), (24, 2), (25, 1), (155, 2), (157, 1), (159, 1), (32, 1), (36, 1), (165, 1), (38, 1), (40, 2), (44, 1), (690, 1), (50, 1), (55, 1), (56, 1), (67, 1), (70, 1), (74, 1), (45, 1), (85, 1), (218, 1), (95, 1), (276, 1), (106, 1), (246, 1), (20, 1)])\\n', 'Abundance in octaves - OrderedDict([(1, 14), (2, 19), (4, 14), (8, 11), (16, 9), (32, 10)])\\n', \"Shannon's entropy - 3.29353730214\\n\", '\\n', '\\n', 'Simulated Species Abundance Distribution\\n', '###############################################################################\\n', '||||||||||||||||||||||||||||||||||||||||||||||||||||||||||||||||||||||  14  1  \\n', '||||||||||||||||||||||||||||||||||||||||||||||||||||||||||||            12  2  \\n', '|||||||||||||||||||||||||||||||||||                                      7  3  \\n', '||||||||||||||||||||                                                     4  4  \\n', '||||||||||||||||||||                                                     4  5  \\n', '||||||||||                                                               2  6  \\n', '||||||||||||||||||||                                                     4  7  \\n', '||||||||||                                                               2  8  \\n', '|||||||||||||||                                                          3  10 \\n', '|||||                                                                    1  13 \\n', '|||||||||||||||                                                          3  14 \\n', '||||||||||                                                               2  15 \\n', '||||||||||||||||||||                                                     4  16 \\n', '|||||                                                                    1  19 \\n', '|||||                                                                    1  148\\n', '|||||                                                                    1  149\\n', '||||||||||                                                               2  24 \\n', '|||||                                                                    1  25 \\n', '||||||||||                                                               2  155\\n', '|||||                                                                    1  157\\n', '|||||                                                                    1  159\\n', '|||||                                                                    1  32 \\n', '|||||                                                                    1  36 \\n', '|||||                                                                    1  165\\n', '|||||                                                                    1  38 \\n', '||||||||||                                                               2  40 \\n', '|||||                                                                    1  44 \\n', '|||||                                                                    1  690\\n', '|||||                                                                    1  50 \\n', '|||||                                                                    1  55 \\n', '|||||                                                                    1  56 \\n', '|||||                                                                    1  67 \\n', '|||||                                                                    1  70 \\n', '|||||                                                                    1  74 \\n', '|||||                                                                    1  45 \\n', '|||||                                                                    1  85 \\n', '|||||                                                                    1  218\\n', '|||||                                                                    1  95 \\n', '|||||                                                                    1  276\\n', '|||||                                                                    1  106\\n', '|||||                                                                    1  246\\n', '|||||                                                                    1  20 \\n', '###############################################################################\\n', '\\n', 'Species Name                     Col time    Loc Abund    Meta Abund      pi    pi_net     Dxy    S    S_island    pi_island    S_meta    pi_meta\\n', '-----------------------------  ----------  -----------  ------------  ------  --------  ------  ---  ----------  -----------  --------  ---------\\n', 'Scirtothrips pygmaeella             39353          157        158053  0.0128    0.0078  0.0165   31           5       0.0023        24     0.0152\\n', 'Copris pomonella                     4949            1         48638  0.0039    0.0011  0.0044   10           1       0.0006         9     0.0060\\n', 'Haplothrips lecontei                88919           16         14511  0.0032    0.0029  0.0046    8           6       0.0029         1     0.0004\\n', 'Coleophora xanthogrammtidae          6487            3         63980  0.0048    0.0035  0.0065   11           0       0.0000        11     0.0060\\n', 'Coptosoma ater                       2485          165         50123  0.0047    0.0041  0.0067    8           0       0.0000         8     0.0051\\n', 'Agrotis atratus                     32702            6         18817  0.0010    0.0002  0.0011    3           2       0.0014         1     0.0004\\n', 'Acizzia semifuneralis                3609           19         80420  0.0019    0.0009  0.0023    6           0       0.0000         6     0.0028\\n', 'Melanocallis crotchi                  938            7         87222  0.0024    0.0004  0.0026    7           1       0.0009         6     0.0035\\n', 'Epiblema aurantii                    2975            1         43906  0.0049    0.0012  0.0054   11           0       0.0000        11     0.0085\\n', 'Copris festaliella                   4069            3         54752  0.0065    0.0074  0.0100   11           1       0.0004        10     0.0049\\n', 'Dryocosmus consobrina               10928            3         48611  0.0011    0.0002  0.0012    3           0       0.0000         3     0.0020\\n', 'Dolichovespula pennsylvanicus       14119           24         89658  0.0021    0.0004  0.0023    9           0       0.0000         9     0.0038\\n', 'Erionota auxiliaris                   391            1         13825  0.0023    0.0003  0.0024    5           2       0.0016         5     0.0026\\n', 'Coleophora farinae                  46922          218         63366  0.0005    0.0000  0.0005    2           1       0.0004         1     0.0006\\n', 'Monellia incertus                   29337           36         18045  0.0005    0.0000  0.0005    2           2       0.0010         0     0.0000\\n', 'fly chordeilis                       1998            3         29114  0.0006    0.0001  0.0007    2           0       0.0000         2     0.0012\\n', 'Blattella serratella                 6332            2         10910  0.0037    0.0019  0.0046    7           0       0.0000         7     0.0054\\n', 'Myzus acuminata                      2762            5         45552  0.0003    0.0000  0.0004    1           0       0.0000         1     0.0006\\n', 'Saissetia floridensis                 888            1         10911  0.0002    0.0000  0.0002    1           0       0.0000         1     0.0004\\n', 'Cacopsylla florilega                 5144           95        206069  0.0091    0.0042  0.0111   20           1       0.0004        19     0.0134\\n', 'Balclutha caryella                 101347           16         45355  0.0074    0.0018  0.0082   19           2       0.0012        17     0.0117\\n', 'Graminella angulatus                18310            1        116010  0.0021    0.0004  0.0023    6           0       0.0000         6     0.0037\\n', 'Paradiplosis fennica               153316          106         21319  0.0089    0.0116  0.0144   16          11       0.0056         0     0.0000\\n', 'Liriomyza pensylvanicus             17668            2         82466  0.0044    0.0044  0.0065    9           1       0.0006         6     0.0036\\n', 'Ataenius bicaudatus                 37738            4          1917  0.0009    0.0018  0.0018    1           0       0.0000         0     0.0000\\n', 'Aulacaspis syringae                 62048            2         12589  0.0045    0.0060  0.0074    6           1       0.0004         3     0.0025\\n', 'Dioryctria catenifer                 3967           67        127428  0.0080    0.0038  0.0098   27           0       0.0000        27     0.0120\\n', 'Ixodes spretulus                      898           10        112240  0.0051    0.0025  0.0063    9           2       0.0012         7     0.0065\\n', 'Mythimna obtusa                      6819            4         46707  0.0045    0.0015  0.0053   10           0       0.0000        10     0.0075\\n', 'Oligonychus pennsylvanicus            338            2         40849  0.0042   -0.0002  0.0041    7           4       0.0037         7     0.0049\\n', 'Dermacentor Ophiomyia                5665          246         75670  0.0022    0.0017  0.0030    5           2       0.0007         3     0.0019\\n', 'Euzophera ipsilon                    1591            8        158449  0.0076    0.0037  0.0094   11           9       0.0032        10     0.0081\\n', 'Alniphagus tumifex                   1910           10         98856  0.0094    0.0064  0.0125   18           1       0.0009        17     0.0112\\n', 'Neodiprion ipsilon                   5474            1         68782  0.0051    0.0014  0.0058   13           0       0.0000        13     0.0088\\n', 'Tethida roddi                        6749            3        100473  0.0062    0.0047  0.0084   16           0       0.0000        16     0.0075\\n', 'Circulifer araucariae                1197            7        146244  0.0135    0.0246  0.0251   17           0       0.0000         3     0.0011\\n', 'Coptosoma sordidus                   2548           15         32555  0.0014    0.0003  0.0016    4           0       0.0000         4     0.0026\\n', 'Vaga cereralis                      11291           55         57643  0.0051    0.0048  0.0074   10           1       0.0004         9     0.0047\\n', 'Toxoptera tenellus                  25392            7           731  0.0000    0.0000  0.0000    0           0       0.0000         0     0.0000\\n', 'Cryptococcus intrusus               15222            5        141477  0.0021    0.0007  0.0025    6           0       0.0000         6     0.0035\\n', 'Acyrthosiphon pyriforme              3305            1         18705  0.0018    0.0035  0.0035    2           0       0.0000         0     0.0000\\n', 'Torymus consobrina                  80773           74         16036  0.0055    0.0069  0.0088   11           3       0.0016         5     0.0020\\n', 'Phenacoccus crataegella             41112            4         67270  0.0035    0.0023  0.0046    8           1       0.0004         6     0.0042\\n', 'Scirtothrips persicae               26172           10          5969  0.0029    0.0053  0.0054    4           1       0.0004         0     0.0000\\n', 'Autoplusia ipsilon                  18353            1          3545  0.0000    0.0000  0.0000    0           0       0.0000         0     0.0000\\n', 'Monellia tabidus                   149400           50          8184  0.0046    0.0054  0.0072   12           9       0.0036         0     0.0000\\n', 'Autoplusia tremuloidiella           10796          690         20738  0.0031    0.0016  0.0039    6           1       0.0004         5     0.0042\\n', 'Macrosteles ligustici                 321            1        253524  0.0286    0.0019  0.0294   52          40       0.0216        48     0.0336\\n', 'Nabis andraemon                    122799           70          6950  0.0075    0.0087  0.0116   15           9       0.0043         2     0.0016\\n', 'Magdalis elotella                   23329            2         99113  0.0142    0.0179  0.0226   22           0       0.0000        21     0.0095\\n', 'Jonthonota punicae                  37315           20         14683  0.0037    0.0044  0.0058    7           1       0.0004         4     0.0024\\n', 'Pritcharanychus nigripes            20080           14         50923  0.0046    0.0010  0.0051   12           0       0.0000        12     0.0082\\n', 'Copris mali                         11886          148         62288  0.0056    0.0049  0.0079    9           1       0.0004         8     0.0057\\n', 'Podosesia megacephala                5868            2         62547  0.0052    0.0015  0.0060   17           0       0.0000        17     0.0089\\n', 'Sitotroga terebrans                  9528           16        113189  0.0112    0.0079  0.0149   21           1       0.0004        20     0.0137\\n', 'Ischnaspis tibialis                 10400            1         16965  0.0022    0.0024  0.0033    4           1       0.0006         2     0.0013\\n', 'Alphitobius crotchi                 24884            2          2452  0.0015    0.0020  0.0025    2           0       0.0000         1     0.0009\\n', 'Jonthonota cerealella              110716            6         10335  0.0008    0.0001  0.0009    3           3       0.0016         0     0.0000\\n', 'Coptosoma gowdeyi                   51559           24         17684  0.0016    0.0014  0.0023    5           1       0.0004         4     0.0014\\n', 'Actebia americana                    1442            1         59994  0.0035    0.0019  0.0044    8           0       0.0000         8     0.0050\\n', 'Clastoptera catenifer               13009          276        218547  0.0129    0.0072  0.0163   26           2       0.0010        22     0.0173\\n', 'Enoclerus persicae                  15897           15         30590  0.0022    0.0005  0.0025    7           1       0.0004         6     0.0035\\n', 'Protocalliphora richteri            65715            7         12979  0.0036    0.0032  0.0051    8           4       0.0025         3     0.0013\\n', 'Ips vexabilis                        6978            2         45496  0.0060    0.0018  0.0068   12           5       0.0031        11     0.0071\\n', 'Acronicta egena                     39527          155         65073  0.0047    0.0028  0.0060   12           4       0.0014         8     0.0050\\n', 'Sceliphron cerasi                   17514            3        141659  0.0088    0.0055  0.0114   20           0       0.0000        19     0.0118\\n', 'Protocalliphora cerasi              36843           85         34460  0.0012    0.0002  0.0012    4           2       0.0007         2     0.0014\\n', 'Nomia pulicaria                      3747           45        152044  0.0122    0.0039  0.0140   30           0       0.0000        30     0.0204\\n', 'Fenusa ornatrix                     20585            3         72346  0.0023    0.0019  0.0032    6           1       0.0008         4     0.0017\\n', 'Nuculaspis fasciatus                28308           38         48190  0.0041    0.0027  0.0054    9           0       0.0000         9     0.0054\\n', 'Schizotetranychus fabricii           5380            2          3650  0.0000    0.0000  0.0000    0           0       0.0000         0     0.0000\\n', 'Acizzia conjugella                  30887          155         33472  0.0043    0.0028  0.0056    9           3       0.0013         5     0.0044\\n', 'Dryocosmus gowdeyi                    358          149        122545  0.0104    0.0025  0.0116   21          11       0.0069        17     0.0113\\n', 'Epicauta andraemon                   9280           25         29484  0.0024    0.0011  0.0030    5           1       0.0004         4     0.0034\\n', 'Phyllonorycter Ophiomyia             1925           44         28321  0.0040    0.0004  0.0042    7           5       0.0033         7     0.0044\\n', 'Euura lineolatus                   146708           16          1333  0.0022    0.0035  0.0039    3           1       0.0006         0     0.0000\\n', 'Bombus farinae                     269996            5          5305  0.0093    0.0160  0.0168   11           2       0.0016         0     0.0000\\n', 'Solenopsis syringae                 26547            2         72213  0.0104    0.0073  0.0139   23           1       0.0004        20     0.0129\\n', 'Dolichurus retentus                  3904            8         65821  0.0062    0.0044  0.0082   12           0       0.0000        12     0.0077\\n', 'Cadra pensylvanicus                 10750            5         11775  0.0020    0.0035  0.0037    3           1       0.0004         0     0.0000\\n', 'Myzus oleae                          1956           14         40264  0.0008    0.0001  0.0009    3           1       0.0004         2     0.0012\\n', 'Dermatophagoides Hough              23619            2         99273  0.0066    0.0057  0.0093   14           2       0.0007        11     0.0064\\n', 'Trialeurodes websteri               17424            4          7550  0.0000    0.0000  0.0000    0           0       0.0000         0     0.0000\\n', 'Euura xanthogrammtidae             120861           56         17650  0.0023    0.0018  0.0032    9           7       0.0025         1     0.0004\\n', 'Dryocosmus americanum               66041          159         17578  0.0033    0.0019  0.0042    8           3       0.0011         5     0.0036\\n', 'Sternechus caryaefoliae              3930            2           745  0.0002    0.0000  0.0002    1           1       0.0004         0     0.0000\\n', 'Xenopsylla serratella               91835           14          7334  0.0047    0.0071  0.0081    8           3       0.0013         1     0.0006\\n', 'Marmara pygmaeella                   2785            1         18102  0.0018    0.0013  0.0025    4           0       0.0000         4     0.0023\\n', 'Tabanus caementarium                55883           40         10984  0.0045    0.0032  0.0060    9           3       0.0016         5     0.0040\\n', 'Thyridopteryx syringae              25258           13         58896  0.0024    0.0017  0.0032    5           0       0.0000         5     0.0030\\n', 'Protocalliphora araucariae          12814           40         96598  0.0082    0.0038  0.0100   18           0       0.0000        18     0.0124\\n', 'Camponotus varians                  32760           32         37785  0.0056    0.0016  0.0063   15           3       0.0016        12     0.0079\\n', 'Clastoptera cerasi                    303            1         15615  0.0003    0.0000  0.0004    1           0       0.0000         1     0.0006\\n', 'Conotrachelus tenellus               4520            1         44008  0.0030    0.0012  0.0035    6           0       0.0000         6     0.0047']\n"
     ]
    }
   ],
   "source": [
    "infile = \"/tmp/sims/K_3893-C_0.00775090300895_1503176756.18/gimmeSAD.out\"\n",
    "dat = open(infile).readlines()\n",
    "print(dat)"
   ]
  },
  {
   "cell_type": "code",
   "execution_count": 174,
   "metadata": {},
   "outputs": [
    {
     "name": "stdout",
     "output_type": "stream",
     "text": [
      "(57, 100)\n",
      "explained variance ratio (first two components): [ 0.62286836  0.23778228]\n"
     ]
    },
    {
     "data": {
      "text/plain": [
       "<matplotlib.collections.PathCollection at 0x126bbdb10>"
      ]
     },
     "execution_count": 174,
     "metadata": {},
     "output_type": "execute_result"
    },
    {
     "data": {
      "image/png": "[encoded data removed]",
      "text/plain": [
       "<matplotlib.figure.Figure at 0x123ebffd0>"
      ]
     },
     "metadata": {},
     "output_type": "display_data"
    }
   ],
   "source": [
    "from sklearn.decomposition import PCA\n",
    "import matplotlib.pyplot as plt\n",
    "\n",
    "print(dat.shape)\n",
    "pca = PCA(n_components=2)\n",
    "X_r = pca.fit(dat).transform(dat)\n",
    "print('explained variance ratio (first two components): %s'\n",
    "      % str(pca.explained_variance_ratio_))\n",
    "plt.figure()\n",
    "x, y = zip(*X_r)\n",
    "plt.scatter(x, y)"
   ]
  },
  {
   "cell_type": "markdown",
   "metadata": {},
   "source": [
    "## Plot colonization rates"
   ]
  },
  {
   "cell_type": "code",
   "execution_count": 214,
   "metadata": {},
   "outputs": [
    {
     "name": "stdout",
     "output_type": "stream",
     "text": [
      "/Volumes/WorkDrive/gimmeSAD/simout/K_10000-C_0.1/pi_x_dxy.log\n",
      "/Volumes/WorkDrive/gimmeSAD/simout/K_10000-C_0.01/pi_x_dxy.log\n",
      "/Volumes/WorkDrive/gimmeSAD/simout/K_10000-C_0.001/pi_x_dxy.log\n",
      "[15, 100, 572]\n",
      "(687, 100)\n",
      "explained variance ratio (first two components): [ 0.86623127  0.08679845]\n",
      "doing 0.1 - red\n",
      "doing 0.01 - blue\n",
      "doing 0.001 - yellow\n"
     ]
    },
    {
     "data": {
      "image/png": "[encoded data removed]",
      "text/plain": [
       "<matplotlib.figure.Figure at 0x127f95a90>"
      ]
     },
     "metadata": {},
     "output_type": "display_data"
    }
   ],
   "source": [
    "os.chdir(SIMOUT_DIR)\n",
    "K = [10000, 5000, 1000]\n",
    "C = [0.1, 0.01, 0.001]\n",
    "multi_col = [\"\", \"_x4\", \"_x10\"]\n",
    "\n",
    "dat = []\n",
    "lens = []\n",
    "for c in C:\n",
    "    datfile = os.path.join(SIMOUT_DIR, \"K_10000-C_{}/pi_x_dxy.log\".format(c))\n",
    "    print(datfile)\n",
    "    mydat = load_pidxy(datfile)\n",
    "    dat.extend(mydat)\n",
    "    lens.append(len(mydat))\n",
    "print(lens)\n",
    "dat = np.array(dat)\n",
    "print(dat.shape)\n",
    "\n",
    "pca = PCA(n_components=2)\n",
    "X_r = pca.fit(dat).transform(dat)\n",
    "print('explained variance ratio (first two components): %s'\n",
    "      % str(pca.explained_variance_ratio_))\n",
    "plt.figure()\n",
    "x,y = zip(*X_r)\n",
    "cur = 0\n",
    "for col, idx, size in zip([\"red\", \"blue\", \"yellow\"], lens, C):\n",
    "    print(\"doing {} - {}\".format(size, col))\n",
    "    plt.scatter(x[cur:idx+cur], y[cur:idx+cur], color=col, label=size, lw=2)\n",
    "    cur+=idx\n",
    "plt.legend(loc='upper left', scatterpoints=1)\n",
    "plt.show()"
   ]
  },
  {
   "cell_type": "markdown",
   "metadata": {},
   "source": [
    "## Plot local community sizes"
   ]
  },
  {
   "cell_type": "code",
   "execution_count": 219,
   "metadata": {},
   "outputs": [
    {
     "name": "stdout",
     "output_type": "stream",
     "text": [
      "/Volumes/WorkDrive/gimmeSAD/simout/K_10000-C_0.01/pi_x_dxy.log\n",
      "/Volumes/WorkDrive/gimmeSAD/simout/K_5000-C_0.01/pi_x_dxy.log\n",
      "/Volumes/WorkDrive/gimmeSAD/simout/K_1000-C_0.01/pi_x_dxy.log\n",
      "[100, 46, 2]\n",
      "(148, 100)\n",
      "explained variance ratio (first two components): [ 0.7633547   0.11368971]\n",
      "doing 10000 - red\n",
      "doing 5000 - blue\n",
      "doing 1000 - yellow\n"
     ]
    },
    {
     "data": {
      "image/png": "[encoded data removed]",
      "text/plain": [
       "<matplotlib.figure.Figure at 0x12999f590>"
      ]
     },
     "metadata": {},
     "output_type": "display_data"
    }
   ],
   "source": [
    "os.chdir(SIMOUT_DIR)\n",
    "K = [10000, 5000, 1000]\n",
    "C = [0.1, 0.01, 0.001]\n",
    "multi_col = [\"\", \"_x4\", \"_x10\"]\n",
    "\n",
    "dat = []\n",
    "lens = []\n",
    "for k in K:\n",
    "    datfile = os.path.join(SIMOUT_DIR, \"K_{}-C_0.01/pi_x_dxy.log\".format(k))\n",
    "    print(datfile)\n",
    "    mydat = load_pidxy(datfile)\n",
    "    dat.extend(mydat)\n",
    "    lens.append(len(mydat))\n",
    "print(lens)\n",
    "dat = np.array(dat)\n",
    "print(dat.shape)\n",
    "\n",
    "pca = PCA(n_components=2)\n",
    "X_r = pca.fit(dat).transform(dat)\n",
    "print('explained variance ratio (first two components): %s'\n",
    "      % str(pca.explained_variance_ratio_))\n",
    "plt.figure()\n",
    "x,y = zip(*X_r)\n",
    "cur = 0\n",
    "for col, idx, size in zip([\"red\", \"blue\", \"yellow\"], lens, K):\n",
    "    print(\"doing {} - {}\".format(size, col))\n",
    "    plt.scatter(x[cur:idx+cur], y[cur:idx+cur], color=col, label=size, lw=2)\n",
    "    cur+=idx\n",
    "plt.legend(loc='upper left', scatterpoints=1)\n",
    "plt.show()"
   ]
  },
  {
   "cell_type": "code",
   "execution_count": 68,
   "metadata": {},
   "outputs": [
    {
     "name": "stdout",
     "output_type": "stream",
     "text": [
      "./gimmeSAD.py -n 100000 -c 0.001 -k 5000 -o wat --model=2  -f -q \n"
     ]
    }
   ],
   "source": [
    "import subprocess\n",
    "NSIMS = 100000\n",
    "c = 0.001\n",
    "k = 5000\n",
    "cursim_dir = \"wat\"\n",
    "cmd = \"./gimmeSAD.py -n \"+ str(NSIMS)\\\n",
    "                            + \" -c \" + str(c)\\\n",
    "                            + \" -k \" + str(k)\\\n",
    "                            + \" -o \" + cursim_dir\\\n",
    "                            + \" --model=2 \"\\\n",
    "                            + \" -f -q \"\n",
    "print(cmd)\n",
    "FNULL = open(os.devnull, 'w')\n",
    "proc = subprocess.Popen(cmd.split(), shell=False, stdout=FNULL, stderr=subprocess.STDOUT)"
   ]
  },
  {
   "cell_type": "code",
   "execution_count": 65,
   "metadata": {},
   "outputs": [
    {
     "data": {
      "text/plain": [
       "(None, None)"
      ]
     },
     "execution_count": 65,
     "metadata": {},
     "output_type": "execute_result"
    }
   ],
   "source": [
    "proc.communicate()"
   ]
  }
 ],
 "metadata": {
  "anaconda-cloud": {},
  "kernelspec": {
   "display_name": "Python 2",
   "language": "python",
   "name": "python2"
  },
  "language_info": {
   "codemirror_mode": {
    "name": "ipython",
    "version": 2
   },
   "file_extension": ".py",
   "mimetype": "text/x-python",
   "name": "python",
   "nbconvert_exporter": "python",
   "pygments_lexer": "ipython2",
   "version": "2.7.13"
  }
 },
 "nbformat": 4,
 "nbformat_minor": 1
}
