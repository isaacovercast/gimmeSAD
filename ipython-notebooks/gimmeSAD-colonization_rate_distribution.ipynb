{
 "cells": [
  {
   "cell_type": "code",
   "execution_count": 2,
   "metadata": {},
   "outputs": [],
   "source": [
    "%matplotlib inline\n",
    "%load_ext rpy2.ipython\n",
    "import os\n",
    "import scipy\n",
    "\n",
    "GIMME_DIR = \"/home/isaac/gimmeSAD\"\n",
    "SIMOUT_DIR = os.path.join(GIMME_DIR, \"simout/\")\n",
    "\n",
    "os.chdir(GIMME_DIR)\n",
    "import gimmeSAD\n",
    "import numpy as np\n",
    "import pandas as pd\n",
    "import matplotlib.pyplot as plt\n",
    "import itertools\n",
    "import random\n",
    "import glob\n",
    "import subprocess"
   ]
  },
  {
   "cell_type": "markdown",
   "metadata": {},
   "source": [
    "## Gather all the colonization time vectors for all the simulations"
   ]
  },
  {
   "cell_type": "code",
   "execution_count": 3,
   "metadata": {},
   "outputs": [
    {
     "name": "stdout",
     "output_type": "stream",
     "text": [
      "Processed ntimepoints 5057\n",
      "[[0.1084, 3641.0, 2101.0, 3519.0, 993.0, 7775.0, 6784.0, 6178.0, 5464.0, 7697.0, 7121.0, 7684.0, 7440.0, 10407.0, 14179.0, 2670.0, 8659.0, 156.0, 14893.0, 3565.0, 6458.0, 4033.0, 1046.0, 2764.0, 1510.0, 8438.0, 12397.0, 753.0, 7718.0, 9348.0, 8349.0, 15066.0, 15041.0, 7952.0, 6274.0, 4926.0, 5091.0, 401.0, 4627.0, 12405.0, 602.0, 490.0, 18385.0, 7969.0, 5863.0, 1376.0, 17600.0, 4594.0, 4828.0, 12388.0, 15406.0, 1007.0, 3535.0, 15374.0, 1248.0, 1063.0, 649.0, 9930.0, 11428.0, 7591.0, 4300.0, 7562.0, 5693.0, 7147.0, 801.0, 2969.0, 7008.0, 477.0, 13215.0, 183.0, 3754.0, 6794.0, 1581.0, 18175.0, 10423.0, 15127.0, 513.0, 5933.0, 336.0, 3602.0, 3540.0, 4526.0, 18048.0, 4301.0, 3158.0, 4020.0, 2003.0, 5023.0, 8472.0, 6557.0, 19906.0, 16012.0, 7201.0, 17719.0, 17891.0, 15828.0, 1203.0, 3178.0, 6596.0, 4583.0, 15481.0, 3080.0, 9205.0, 7814.0, 2099.0, 422.0, 14323.0, 1263.0, 11799.0, 403.0, 17820.0, 1644.0, 551.0, 5548.0, 13071.0, 13244.0, 19999.0, 6062.0, 5111.0, 3930.0, 5792.0, 8580.0, 7120.0, 3103.0, 16888.0, 13447.0, 14196.0, 1437.0, 7108.0, 5156.0, 16293.0, 2072.0, 9630.0, 2605.0, 1665.0, 1683.0, 11088.0, 18751.0, 4327.0, 5972.0, 3650.0, 1277.0, 8700.0, 8484.0, 17952.0, 695.0, 1186.0, 9686.0, 2940.0, 18976.0, 1465.0, 13354.0, 6323.0, 618.0, 13422.0, 1856.0, 15320.0, 4360.0, 4031.0, 2438.0, 3479.0, 11293.0, 10246.0, 9800.0, 3761.0, 13649.0, 17571.0, 5485.0, 428.0, 952.0, 9232.0, 2366.0, 9248.0, 4614.0, 1754.0, 259.0, 17378.0, 829.0, 5008.0, 9099.0, 90.0, 9261.0, 16960.0, 12866.0, 9459.0, 6658.0, 1096.0, 1832.0, 4049.0, 5724.0, 10700.0, 13112.0, 2782.0, 661.0, 1882.0, 15658.0, 1295.0, 6123.0, 1341.0, 4949.0, 3666.0, 17499.0, 1982.0, 3393.0, 2168.0, 208.0, 2912.0, 939.0, 5793.0, 7096.0, 984.0, 3964.0, 2274.0, 13096.0, 13754.0, 19582.0, 17847.0, 3217.0]]\n"
     ]
    }
   ],
   "source": [
    "files = glob.glob(SIMOUT_DIR + \"*5000*/coltimes.txt\")\n",
    "dat = []\n",
    "for f in files:\n",
    "    lines = open(f).readlines()[1:]\n",
    "    new_lines = []\n",
    "    for line in lines:\n",
    "        try:\n",
    "            ## Parse each line and get rid of bracket characters\n",
    "            l = [float(x.translate(None, \"[],\")) for x in line.strip().split()]\n",
    "            ## Convert colonization time, which is recorded as the timestep of \n",
    "            ## colonization, to absolute time, basically subtract each coltime\n",
    "            ## per species from the \"current\" time\n",
    "            l = [l[0]] + [l[1] - x for x in l[2:]]\n",
    "            new_lines.append(l)\n",
    "        except Exception as inst:\n",
    "            print(inst)\n",
    "    dat.extend(new_lines)\n",
    "print(\"Processed ntimepoints {}\".format(len(dat)))\n",
    "print(dat[:1])\n"
   ]
  },
  {
   "cell_type": "markdown",
   "metadata": {},
   "source": [
    "## Now we have to go through all the data and pick out timepoints that are \"close\"\n",
    "## to our timepoints of interest"
   ]
  },
  {
   "cell_type": "code",
   "execution_count": 4,
   "metadata": {},
   "outputs": [
    {
     "name": "stdout",
     "output_type": "stream",
     "text": [
      "Got n coltimes per lambda:\n",
      "\t0.25\t- 35026\n",
      "\t0.5\t- 14929\n",
      "\t0.05\t- 76411\n",
      "\t0.1\t- 58519\n",
      "\t1\t- 429073\n",
      "\t0.75\t- 22976\n"
     ]
    }
   ],
   "source": [
    "time_tolerance = 0.01\n",
    "sampling_lambdas = [0.05, 0.1, 0.25, 0.5, 0.75, 1]\n",
    "\n",
    "## Dict for storing distributions per timepoint\n",
    "lambda_dists = {perc:[] for perc in sampling_lambdas}\n",
    "\n",
    "## Ineffecient but i don't care\n",
    "for percent in sampling_lambdas:\n",
    "    coltimes = []\n",
    "    for line in dat:\n",
    "        ## If the difference between the lambda for each line\n",
    "        ## is close enough to the sampling lambda we want then keep the coltimes\n",
    "        if abs(line[0] - percent) < time_tolerance:\n",
    "            coltimes.extend(line[2:])\n",
    "    lambda_dists[percent] = coltimes\n",
    "print(\"Got n coltimes per lambda:\")\n",
    "for k,v in lambda_dists.items():\n",
    "    print(\"\\t{}\\t- {}\".format(k, len(v)))"
   ]
  },
  {
   "cell_type": "code",
   "execution_count": null,
   "metadata": {},
   "outputs": [
    {
     "name": "stdout",
     "output_type": "stream",
     "text": [
      "0.05 162241.682729\n",
      "0.1 118896.5212\n",
      "0.25 117487.844328\n",
      "0.5 112716.856197\n",
      "0.75 142883.987666\n"
     ]
    }
   ],
   "source": [
    "from scipy.stats import expon\n",
    "f, axarr = plt.subplots(2, 3, figsize=(8,4), dpi=300)\n",
    "axarr = [a for b in axarr for a in b]\n",
    "\n",
    "for k, ax in zip(sampling_lambdas, axarr):\n",
    "    ax.set_title(u\"Λ = {}\".format(k))\n",
    "    coltimes = lambda_dists[k]\n",
    "    ax.hist(coltimes)\n",
    "    ax.set_ylabel('N Species', color='b')\n",
    "    ax.set_xlabel('Colonization Time', color='b')\n",
    "    ax.get_yaxis().set_ticks([])\n",
    "    ax.get_xaxis().set_ticks([])\n",
    "    #ax.get_xaxis().set_ticks(np.arange(min(coltimes), max(coltimes)+1, 1.0))\n",
    "    data = sorted(coltimes)\n",
    "    loc, sc = expon.fit(data, floc=0)\n",
    "    print(\"{} {}\".format(k, sc))\n",
    "    rv = expon(scale=sc)\n",
    "    x = np.linspace(0, max(data), 100)\n",
    "    \n",
    "    ax1 = ax.twinx()\n",
    "    ax1.plot(x, rv.pdf(x))\n",
    "    ax1.get_yaxis().set_ticks([])\n",
    "plt.tight_layout()"
   ]
  },
  {
   "cell_type": "code",
   "execution_count": 85,
   "metadata": {},
   "outputs": [
    {
     "data": {
      "text/plain": [
       "[<matplotlib.lines.Line2D at 0x7f1678026a90>]"
      ]
     },
     "execution_count": 85,
     "metadata": {},
     "output_type": "execute_result"
    },
    {
     "data": {
      "image/png": "[encoded data removed]",
      "text/plain": [
       "<matplotlib.figure.Figure at 0x7f1679639490>"
      ]
     },
     "metadata": {},
     "output_type": "display_data"
    }
   ],
   "source": [
    "plt.plot(x, rv.pdf(x), 'k-', lw=2, label='frozen pdf')"
   ]
  },
  {
   "cell_type": "code",
   "execution_count": 1,
   "metadata": {},
   "outputs": [
    {
     "ename": "NameError",
     "evalue": "name 'np' is not defined",
     "output_type": "error",
     "traceback": [
      "\u001b[0;31m\u001b[0m",
      "\u001b[0;31mNameError\u001b[0mTraceback (most recent call last)",
      "\u001b[0;32m<ipython-input-1-cc3df9cac738>\u001b[0m in \u001b[0;36m<module>\u001b[0;34m()\u001b[0m\n\u001b[0;32m----> 1\u001b[0;31m \u001b[0mnp\u001b[0m\u001b[0;34m.\u001b[0m\u001b[0marange\u001b[0m\u001b[0;34m(\u001b[0m\u001b[0mmin\u001b[0m\u001b[0;34m(\u001b[0m\u001b[0mcoltimes\u001b[0m\u001b[0;34m)\u001b[0m\u001b[0;34m,\u001b[0m \u001b[0mmax\u001b[0m\u001b[0;34m(\u001b[0m\u001b[0mcoltimes\u001b[0m\u001b[0;34m)\u001b[0m\u001b[0;34m+\u001b[0m\u001b[0;36m1\u001b[0m\u001b[0;34m,\u001b[0m \u001b[0;36m1.0\u001b[0m\u001b[0;34m)\u001b[0m\u001b[0;34m\u001b[0m\u001b[0m\n\u001b[0m",
      "\u001b[0;31mNameError\u001b[0m: name 'np' is not defined"
     ]
    }
   ],
   "source": [
    "np.arange(min(coltimes), max(coltimes)+1, 1.0)"
   ]
  }
 ],
 "metadata": {
  "kernelspec": {
   "display_name": "Python 2",
   "language": "python",
   "name": "python2"
  },
  "language_info": {
   "codemirror_mode": {
    "name": "ipython",
    "version": 2
   },
   "file_extension": ".py",
   "mimetype": "text/x-python",
   "name": "python",
   "nbconvert_exporter": "python",
   "pygments_lexer": "ipython2",
   "version": "2.7.13"
  }
 },
 "nbformat": 4,
 "nbformat_minor": 2
}
