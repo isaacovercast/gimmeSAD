{
 "cells": [
  {
   "cell_type": "markdown",
   "metadata": {},
   "source": [
    "## Calculate pi and dxy for the observed data\n",
    "This assumes you have a directory full of fasta files, one for \n",
    "each species. \n",
    "\n",
    "### This is just for testing now. The official version is in `make_obs.py`"
   ]
  },
  {
   "cell_type": "code",
   "execution_count": 13,
   "metadata": {
    "collapsed": true
   },
   "outputs": [],
   "source": [
    "%matplotlib inline\n",
    "import matplotlib.pyplot as plt\n",
    "from itertools import combinations\n",
    "from collections import Counter\n",
    "from scipy.stats import entropy\n",
    "import numpy as np\n",
    "import math\n",
    "import glob\n",
    "import os\n",
    "\n",
    "spider_dir = \"/home/isaac/gimmeSAD/empirical_data/spider-fasta\"\n",
    "os.chdir(spider_dir)"
   ]
  },
  {
   "cell_type": "code",
   "execution_count": 14,
   "metadata": {},
   "outputs": [
    {
     "name": "stdout",
     "output_type": "stream",
     "text": [
      "[5493, 1042, 471, 387, 374, 343, 263, 239, 228, 210, 204, 200, 150, 128, 123, 121, 107, 84, 72, 69, 65, 65, 62, 54, 38, 35, 33, 32, 29, 28, 27, 26, 19, 18, 17, 16, 12, 10, 10, 9, 9, 8, 7, 6, 6, 6, 5, 4, 4, 3, 3, 3, 2, 2, 2, 1, 1, 1]\n",
      "2.24620615577\n"
     ]
    }
   ],
   "source": [
    "abundances = \"150\t107\t32\t2\t200\t12\t1\t1042\t2\t471\t228\t2\t69\t38\t1\t3\t8\t374\t204\t19\t6\t6\t387\t263\t65\t17\t4\t3\t27\t62\t3\t29\t343\t72\t10\t84\t18\t5\t7\t9\t4\t26\t28\t6\t1\t121\t16\t9\t54\t123\t10\t210\t65\t35\t128\t33\t239\t5493\"\n",
    "abundances = map(int, abundances.split(\"\\t\"))\n",
    "abundances.sort(reverse=True)\n",
    "print(abundances)\n",
    "print(entropy(abundances))"
   ]
  },
  {
   "cell_type": "markdown",
   "metadata": {},
   "source": [
    "## Plot rank abundance"
   ]
  },
  {
   "cell_type": "code",
   "execution_count": 12,
   "metadata": {},
   "outputs": [
    {
     "data": {
      "image/png": "[encoded data removed]",
      "text/plain": [
       "<matplotlib.figure.Figure at 0x7fb968e44a90>"
      ]
     },
     "metadata": {},
     "output_type": "display_data"
    }
   ],
   "source": [
    "as_curve = False\n",
    "if True:\n",
    "    X = np.arange(0,len(abundances))\n",
    "    if as_curve:\n",
    "        Y = abundances\n",
    "        plt.semilogy(X, Y, label=\"simulated\")\n",
    "        ymax = max(abundances)\n",
    "    else:\n",
    "        Y = np.log10(abundances)\n",
    "        plt.scatter(X, Y, color=\"blue\", s=100, label=\"simulated\")\n",
    "        ymax = int(math.ceil(np.log10(max(abundances))))\n",
    "\n",
    "    plt.title(\"Rank Abundance\", fontsize=24)\n",
    "    plt.xlim(0, len(abundances))\n",
    "    plt.ylim(0, ymax)\n",
    "    plt.ylabel(\"Abundance (log10)\", fontsize=20)\n",
    "    plt.xlabel(\"Rank\", fontsize=20)"
   ]
  },
  {
   "cell_type": "code",
   "execution_count": 8,
   "metadata": {
    "collapsed": true
   },
   "outputs": [],
   "source": [
    "def pi(file):\n",
    "    ## Calculate average pi\n",
    "    pi = 0\n",
    "    len_seq = 0\n",
    "    try:\n",
    "        f = open(file).readlines()\n",
    "        ## Get just the sequences\n",
    "        dat = [list(x.strip()) for x in f if \">\" not in x]\n",
    "        len_seq = len(dat[0])\n",
    "\n",
    "        ## Transpose, so now we have a list of lists of all bases at each\n",
    "        ## position.\n",
    "        dat = np.transpose(np.array(dat))\n",
    "\n",
    "        ## for each position\n",
    "        for d in dat:\n",
    "            ## If the position is _not_ monomorphic\n",
    "            if len(Counter(d)) > 1:\n",
    "                ## Enumerate the possible comparisons and for each\n",
    "                ## comparison calculate the number of pairwise differences,\n",
    "                ## summing over all sites in the sequence.\n",
    "                for c in combinations(Counter(d).values(), 2):\n",
    "                    #print(c)\n",
    "                    n = c[0] + c[1]\n",
    "                    n_comparisons = float(n) * (n - 1) / 2\n",
    "                    pi += float(c[0]) * (n-c[0]) / n_comparisons\n",
    "    except Exception as inst:\n",
    "        print(\"Something happenend - {}\".format(inst))\n",
    "        pi = 0\n",
    "    ## Average over the length of the whole sequence.\n",
    "    return pi/len_seq"
   ]
  },
  {
   "cell_type": "code",
   "execution_count": 10,
   "metadata": {},
   "outputs": [
    {
     "name": "stdout",
     "output_type": "stream",
     "text": [
      "/home/isaac/gimmeSAD/empirical_data/spider-fasta/GL-39.fasta 0.0212765957447\n",
      "/home/isaac/gimmeSAD/empirical_data/spider-fasta/GL-30.fasta 0.00830143029958\n",
      "/home/isaac/gimmeSAD/empirical_data/spider-fasta/GL-43.fasta 0\n",
      "/home/isaac/gimmeSAD/empirical_data/spider-fasta/GL-10.fasta 0.0369230769231\n",
      "/home/isaac/gimmeSAD/empirical_data/spider-fasta/GL-42.fasta 0.0070523415978\n",
      "/home/isaac/gimmeSAD/empirical_data/spider-fasta/GL-51.fasta 0.000189969604863\n",
      "/home/isaac/gimmeSAD/empirical_data/spider-fasta/GL-33.fasta 0.0048969942587\n",
      "/home/isaac/gimmeSAD/empirical_data/spider-fasta/GL-32.fasta 0.00285342100366\n",
      "/home/isaac/gimmeSAD/empirical_data/spider-fasta/GL-06.fasta 0.00325807829716\n",
      "/home/isaac/gimmeSAD/empirical_data/spider-fasta/GL-20.fasta 0.00868055555556\n",
      "/home/isaac/gimmeSAD/empirical_data/spider-fasta/GL-24.fasta 0.000923147934456\n",
      "/home/isaac/gimmeSAD/empirical_data/spider-fasta/GL-45.fasta 0.0165224846076\n",
      "/home/isaac/gimmeSAD/empirical_data/spider-fasta/GL-50.fasta 0.00460213160103\n",
      "/home/isaac/gimmeSAD/empirical_data/spider-fasta/GL-01c.fasta 0.000251794032481\n",
      "/home/isaac/gimmeSAD/empirical_data/spider-fasta/GL-52.fasta 0.0023369375654\n",
      "/home/isaac/gimmeSAD/empirical_data/spider-fasta/GL-25.fasta 0.0110062893082\n",
      "/home/isaac/gimmeSAD/empirical_data/spider-fasta/GL-18.fasta 0.000555555555556\n",
      "/home/isaac/gimmeSAD/empirical_data/spider-fasta/GL-47b.fasta 0.00401565871277\n",
      "/home/isaac/gimmeSAD/empirical_data/spider-fasta/GL-01a.fasta 0.0111257033344\n",
      "/home/isaac/gimmeSAD/empirical_data/spider-fasta/GL-02.fasta 0\n",
      "/home/isaac/gimmeSAD/empirical_data/spider-fasta/GL-53.fasta 0.00201640940064\n",
      "/home/isaac/gimmeSAD/empirical_data/spider-fasta/GL-36.fasta 0.00151975683891\n",
      "/home/isaac/gimmeSAD/empirical_data/spider-fasta/GL-09.fasta 0.00303933357732\n",
      "/home/isaac/gimmeSAD/empirical_data/spider-fasta/GL-16.fasta 0.00625811121094\n",
      "/home/isaac/gimmeSAD/empirical_data/spider-fasta/GL-23.fasta 0.00220327814842\n",
      "/home/isaac/gimmeSAD/empirical_data/spider-fasta/GL-29.fasta 0.00101317122594\n",
      "/home/isaac/gimmeSAD/empirical_data/spider-fasta/GL-38.fasta 0.000966183574879\n",
      "/home/isaac/gimmeSAD/empirical_data/spider-fasta/GL-17.fasta 0.0291742085154\n",
      "/home/isaac/gimmeSAD/empirical_data/spider-fasta/GL-03.fasta 0.0284987982991\n",
      "/home/isaac/gimmeSAD/empirical_data/spider-fasta/GL-27.fasta 0.00255516840883\n",
      "/home/isaac/gimmeSAD/empirical_data/spider-fasta/GL-34.fasta 0.0277057119732\n",
      "/home/isaac/gimmeSAD/empirical_data/spider-fasta/GL-01b.fasta 0.0232469419662\n",
      "/home/isaac/gimmeSAD/empirical_data/spider-fasta/GL-07.fasta 0\n",
      "/home/isaac/gimmeSAD/empirical_data/spider-fasta/GL-21.fasta 0.0046387427741\n",
      "/home/isaac/gimmeSAD/empirical_data/spider-fasta/GL-13.fasta 0\n",
      "/home/isaac/gimmeSAD/empirical_data/spider-fasta/GL-41.fasta 0.00243931985375\n",
      "/home/isaac/gimmeSAD/empirical_data/spider-fasta/GL-31.fasta 0.0175121898237\n",
      "/home/isaac/gimmeSAD/empirical_data/spider-fasta/GL-44.fasta 0.0216182163042\n",
      "/home/isaac/gimmeSAD/empirical_data/spider-fasta/GL-15.fasta 0\n",
      "/home/isaac/gimmeSAD/empirical_data/spider-fasta/GL-47a.fasta 0.000855740004676\n",
      "/home/isaac/gimmeSAD/empirical_data/spider-fasta/GL-49.fasta 0.00540363638847\n",
      "/home/isaac/gimmeSAD/empirical_data/spider-fasta/GL-28.fasta 0.0260895942886\n",
      "/home/isaac/gimmeSAD/empirical_data/spider-fasta/GL-05.fasta 0\n",
      "/home/isaac/gimmeSAD/empirical_data/spider-fasta/GL-08.fasta 0.00340567121389\n",
      "/home/isaac/gimmeSAD/empirical_data/spider-fasta/GL-35.fasta 0.00230043708305\n",
      "/home/isaac/gimmeSAD/empirical_data/spider-fasta/GL-22.fasta 0.00329493317476\n",
      "/home/isaac/gimmeSAD/empirical_data/spider-fasta/GL-26.fasta 0.0106382978723\n",
      "/home/isaac/gimmeSAD/empirical_data/spider-fasta/GL-04.fasta 0.020896656535\n",
      "/home/isaac/gimmeSAD/empirical_data/spider-fasta/GL-14.fasta 0\n",
      "/home/isaac/gimmeSAD/empirical_data/spider-fasta/GL-46.fasta 0.000759878419453\n",
      "/home/isaac/gimmeSAD/empirical_data/spider-fasta/GL-11.fasta 0.0319926028664\n",
      "/home/isaac/gimmeSAD/empirical_data/spider-fasta/GL-12.fasta 0.038754307369\n",
      "/home/isaac/gimmeSAD/empirical_data/spider-fasta/GL-40.fasta 0.00376676529902\n",
      "/home/isaac/gimmeSAD/empirical_data/spider-fasta/GL-48.fasta 0\n",
      "/home/isaac/gimmeSAD/empirical_data/spider-fasta/GL-54.fasta 0.0021358744763\n",
      "/home/isaac/gimmeSAD/empirical_data/spider-fasta/GL-37.fasta 0.00151975683891\n",
      "/home/isaac/gimmeSAD/empirical_data/spider-fasta/GL-19.fasta 0.00116754232341\n"
     ]
    }
   ],
   "source": [
    "files = glob.glob(os.path.join(spider_dir, \"*.fasta\"))\n",
    "pis = []\n",
    "for f in files:\n",
    "    print(f), \n",
    "    print(pi(f))\n",
    "    pis.append(pi(f))"
   ]
  },
  {
   "cell_type": "code",
   "execution_count": 5,
   "metadata": {},
   "outputs": [
    {
     "name": "stdout",
     "output_type": "stream",
     "text": [
      "[0, 0, 0, 0, 0, 0, 0, 0, 0.00018996960486322188, 0.0002517940324814302, 0.0005555555555555556, 0.0007598784194528875, 0.0008557400046761748, 0.0009231479344564966, 0.000966183574879227, 0.0010131712259371832, 0.0011675423234092236, 0.001519756838905775, 0.001519756838905775, 0.0020164094006396888, 0.002135874476300008, 0.0022032781484227, 0.002300437083045779, 0.002336937565399372, 0.0024393198537509364, 0.0025551684088269454, 0.002853421003659824, 0.0030393335773165327, 0.003258078297161152, 0.0032949331747638244, 0.0034056712138903922, 0.003766765299023363, 0.004015658712767641, 0.004602131601026757, 0.004638742774096721, 0.0048969942586963855, 0.0054036363884719186, 0.006258111210941404, 0.0070523415977961435, 0.008301430299580163, 0.008680555555555554, 0.010638297872340425, 0.0110062893081761, 0.011125703334390787, 0.016522484607590992, 0.017512189823658986, 0.02089665653495441, 0.021276595744680844, 0.02161821630422097, 0.023246941966241903, 0.02608959428856512, 0.02770571197319974, 0.028498798299131076, 0.029174208515440194, 0.03199260286638926, 0.036923076923076927, 0.03875430736898448]\n",
      "57\n"
     ]
    }
   ],
   "source": [
    "print(sorted(pis))\n",
    "print(len(pis))"
   ]
  },
  {
   "cell_type": "markdown",
   "metadata": {},
   "source": [
    "## Make the 1D pi island vector"
   ]
  },
  {
   "cell_type": "code",
   "execution_count": 9,
   "metadata": {},
   "outputs": [
    {
     "ename": "NameError",
     "evalue": "name 'pis' is not defined",
     "output_type": "error",
     "traceback": [
      "\u001b[0;31m\u001b[0m",
      "\u001b[0;31mNameError\u001b[0mTraceback (most recent call last)",
      "\u001b[0;32m<ipython-input-9-76cb8123c34e>\u001b[0m in \u001b[0;36m<module>\u001b[0;34m()\u001b[0m\n\u001b[0;32m----> 1\u001b[0;31m \u001b[0mpi_island_bins\u001b[0m \u001b[0;34m=\u001b[0m \u001b[0mnp\u001b[0m\u001b[0;34m.\u001b[0m\u001b[0mlinspace\u001b[0m\u001b[0;34m(\u001b[0m\u001b[0;36m0\u001b[0m\u001b[0;34m,\u001b[0m \u001b[0mmax\u001b[0m\u001b[0;34m(\u001b[0m\u001b[0mpis\u001b[0m\u001b[0;34m)\u001b[0m\u001b[0;34m,\u001b[0m \u001b[0;36m10\u001b[0m\u001b[0;34m)\u001b[0m\u001b[0;34m\u001b[0m\u001b[0m\n\u001b[0m\u001b[1;32m      2\u001b[0m \u001b[0mheat\u001b[0m \u001b[0;34m=\u001b[0m \u001b[0mnp\u001b[0m\u001b[0;34m.\u001b[0m\u001b[0mzeros\u001b[0m\u001b[0;34m(\u001b[0m\u001b[0;36m10\u001b[0m\u001b[0;34m,\u001b[0m \u001b[0mdtype\u001b[0m\u001b[0;34m=\u001b[0m\u001b[0mint\u001b[0m\u001b[0;34m)\u001b[0m\u001b[0;34m\u001b[0m\u001b[0m\n\u001b[1;32m      3\u001b[0m \u001b[0;34m\u001b[0m\u001b[0m\n\u001b[1;32m      4\u001b[0m \u001b[0;32mfor\u001b[0m \u001b[0mpi_island\u001b[0m \u001b[0;32min\u001b[0m \u001b[0mpis\u001b[0m\u001b[0;34m:\u001b[0m\u001b[0;34m\u001b[0m\u001b[0m\n\u001b[1;32m      5\u001b[0m         \u001b[0mcount_pi_island\u001b[0m \u001b[0;34m=\u001b[0m \u001b[0;36m0\u001b[0m\u001b[0;34m\u001b[0m\u001b[0m\n",
      "\u001b[0;31mNameError\u001b[0m: name 'pis' is not defined"
     ]
    }
   ],
   "source": [
    "pi_island_bins = np.linspace(0, max(pis), 10)\n",
    "heat = np.zeros(10, dtype=int)\n",
    "\n",
    "for pi_island in pis:\n",
    "        count_pi_island = 0\n",
    "        try:\n",
    "            while not pi_island <= pi_island_bins[count_pi_island]:\n",
    "                count_pi_island += 1\n",
    "                ## increment the heatmap point this corresponds to\n",
    "            heat[count_pi_island] += 1\n",
    "        except:\n",
    "            pass\n",
    "print(heat)"
   ]
  }
 ],
 "metadata": {
  "anaconda-cloud": {},
  "kernelspec": {
   "display_name": "Python 2",
   "language": "python",
   "name": "python2"
  },
  "language_info": {
   "codemirror_mode": {
    "name": "ipython",
    "version": 2
   },
   "file_extension": ".py",
   "mimetype": "text/x-python",
   "name": "python",
   "nbconvert_exporter": "python",
   "pygments_lexer": "ipython2",
   "version": "2.7.13"
  }
 },
 "nbformat": 4,
 "nbformat_minor": 1
}
